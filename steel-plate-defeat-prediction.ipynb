{
 "cells": [
  {
   "cell_type": "markdown",
   "metadata": {},
   "source": [
    "# Steel Plate Defeat Prediction"
   ]
  },
  {
   "cell_type": "markdown",
   "metadata": {},
   "source": [
    "In this project I will try to predict, that steel plate will be defeated or not. This is a classification project. I will use feature importances to understand necessary columns. Let's start."
   ]
  },
  {
   "cell_type": "code",
   "execution_count": 1,
   "metadata": {
    "_cell_guid": "b1076dfc-b9ad-4769-8c92-a6c4dae69d19",
    "_uuid": "8f2839f25d086af736a60e9eeb907d3b93b6e0e5",
    "execution": {
     "iopub.execute_input": "2024-05-24T11:52:31.117753Z",
     "iopub.status.busy": "2024-05-24T11:52:31.116939Z",
     "iopub.status.idle": "2024-05-24T11:52:31.631404Z",
     "shell.execute_reply": "2024-05-24T11:52:31.629143Z",
     "shell.execute_reply.started": "2024-05-24T11:52:31.117706Z"
    }
   },
   "outputs": [
    {
     "name": "stdout",
     "output_type": "stream",
     "text": [
      "/kaggle/input/playground-series-s4e3/sample_submission.csv\n",
      "/kaggle/input/playground-series-s4e3/train.csv\n",
      "/kaggle/input/playground-series-s4e3/test.csv\n"
     ]
    }
   ],
   "source": [
    "# This Python 3 environment comes with many helpful analytics libraries installed\n",
    "# It is defined by the kaggle/python Docker image: https://github.com/kaggle/docker-python\n",
    "# For example, here's several helpful packages to load\n",
    "\n",
    "import numpy as np # linear algebra\n",
    "import pandas as pd # data processing, CSV file I/O (e.g. pd.read_csv)\n",
    "\n",
    "# Input data files are available in the read-only \"../input/\" directory\n",
    "# For example, running this (by clicking run or pressing Shift+Enter) will list all files under the input directory\n",
    "\n",
    "import os\n",
    "for dirname, _, filenames in os.walk('/kaggle/input'):\n",
    "    for filename in filenames:\n",
    "        print(os.path.join(dirname, filename))\n",
    "\n",
    "# You can write up to 20GB to the current directory (/kaggle/working/) that gets preserved as output when you create a version using \"Save & Run All\" \n",
    "# You can also write temporary files to /kaggle/temp/, but they won't be saved outside of the current session"
   ]
  },
  {
   "cell_type": "code",
   "execution_count": 2,
   "metadata": {
    "execution": {
     "iopub.execute_input": "2024-05-24T11:52:31.634934Z",
     "iopub.status.busy": "2024-05-24T11:52:31.633990Z",
     "iopub.status.idle": "2024-05-24T11:52:31.834702Z",
     "shell.execute_reply": "2024-05-24T11:52:31.833245Z",
     "shell.execute_reply.started": "2024-05-24T11:52:31.634890Z"
    }
   },
   "outputs": [],
   "source": [
    "ss=pd.read_csv(\"/kaggle/input/playground-series-s4e3/sample_submission.csv\")\n",
    "test=pd.read_csv(\"/kaggle/input/playground-series-s4e3/test.csv\")\n",
    "train=pd.read_csv(\"/kaggle/input/playground-series-s4e3/train.csv\")"
   ]
  },
  {
   "cell_type": "code",
   "execution_count": 3,
   "metadata": {
    "execution": {
     "iopub.execute_input": "2024-05-24T11:52:31.837061Z",
     "iopub.status.busy": "2024-05-24T11:52:31.836567Z",
     "iopub.status.idle": "2024-05-24T11:52:31.871400Z",
     "shell.execute_reply": "2024-05-24T11:52:31.869609Z",
     "shell.execute_reply.started": "2024-05-24T11:52:31.837016Z"
    }
   },
   "outputs": [
    {
     "data": {
      "text/html": [
       "<div>\n",
       "<style scoped>\n",
       "    .dataframe tbody tr th:only-of-type {\n",
       "        vertical-align: middle;\n",
       "    }\n",
       "\n",
       "    .dataframe tbody tr th {\n",
       "        vertical-align: top;\n",
       "    }\n",
       "\n",
       "    .dataframe thead th {\n",
       "        text-align: right;\n",
       "    }\n",
       "</style>\n",
       "<table border=\"1\" class=\"dataframe\">\n",
       "  <thead>\n",
       "    <tr style=\"text-align: right;\">\n",
       "      <th></th>\n",
       "      <th>id</th>\n",
       "      <th>X_Minimum</th>\n",
       "      <th>X_Maximum</th>\n",
       "      <th>Y_Minimum</th>\n",
       "      <th>Y_Maximum</th>\n",
       "      <th>Pixels_Areas</th>\n",
       "      <th>X_Perimeter</th>\n",
       "      <th>Y_Perimeter</th>\n",
       "      <th>Sum_of_Luminosity</th>\n",
       "      <th>Minimum_of_Luminosity</th>\n",
       "      <th>...</th>\n",
       "      <th>Orientation_Index</th>\n",
       "      <th>Luminosity_Index</th>\n",
       "      <th>SigmoidOfAreas</th>\n",
       "      <th>Pastry</th>\n",
       "      <th>Z_Scratch</th>\n",
       "      <th>K_Scatch</th>\n",
       "      <th>Stains</th>\n",
       "      <th>Dirtiness</th>\n",
       "      <th>Bumps</th>\n",
       "      <th>Other_Faults</th>\n",
       "    </tr>\n",
       "  </thead>\n",
       "  <tbody>\n",
       "    <tr>\n",
       "      <th>0</th>\n",
       "      <td>0</td>\n",
       "      <td>584</td>\n",
       "      <td>590</td>\n",
       "      <td>909972</td>\n",
       "      <td>909977</td>\n",
       "      <td>16</td>\n",
       "      <td>8</td>\n",
       "      <td>5</td>\n",
       "      <td>2274</td>\n",
       "      <td>113</td>\n",
       "      <td>...</td>\n",
       "      <td>-0.5000</td>\n",
       "      <td>-0.0104</td>\n",
       "      <td>0.1417</td>\n",
       "      <td>0</td>\n",
       "      <td>0</td>\n",
       "      <td>0</td>\n",
       "      <td>1</td>\n",
       "      <td>0</td>\n",
       "      <td>0</td>\n",
       "      <td>0</td>\n",
       "    </tr>\n",
       "    <tr>\n",
       "      <th>1</th>\n",
       "      <td>1</td>\n",
       "      <td>808</td>\n",
       "      <td>816</td>\n",
       "      <td>728350</td>\n",
       "      <td>728372</td>\n",
       "      <td>433</td>\n",
       "      <td>20</td>\n",
       "      <td>54</td>\n",
       "      <td>44478</td>\n",
       "      <td>70</td>\n",
       "      <td>...</td>\n",
       "      <td>0.7419</td>\n",
       "      <td>-0.2997</td>\n",
       "      <td>0.9491</td>\n",
       "      <td>0</td>\n",
       "      <td>0</td>\n",
       "      <td>0</td>\n",
       "      <td>0</td>\n",
       "      <td>0</td>\n",
       "      <td>0</td>\n",
       "      <td>1</td>\n",
       "    </tr>\n",
       "    <tr>\n",
       "      <th>2</th>\n",
       "      <td>2</td>\n",
       "      <td>39</td>\n",
       "      <td>192</td>\n",
       "      <td>2212076</td>\n",
       "      <td>2212144</td>\n",
       "      <td>11388</td>\n",
       "      <td>705</td>\n",
       "      <td>420</td>\n",
       "      <td>1311391</td>\n",
       "      <td>29</td>\n",
       "      <td>...</td>\n",
       "      <td>-0.0105</td>\n",
       "      <td>-0.0944</td>\n",
       "      <td>1.0000</td>\n",
       "      <td>0</td>\n",
       "      <td>0</td>\n",
       "      <td>1</td>\n",
       "      <td>0</td>\n",
       "      <td>0</td>\n",
       "      <td>0</td>\n",
       "      <td>0</td>\n",
       "    </tr>\n",
       "    <tr>\n",
       "      <th>3</th>\n",
       "      <td>3</td>\n",
       "      <td>781</td>\n",
       "      <td>789</td>\n",
       "      <td>3353146</td>\n",
       "      <td>3353173</td>\n",
       "      <td>210</td>\n",
       "      <td>16</td>\n",
       "      <td>29</td>\n",
       "      <td>3202</td>\n",
       "      <td>114</td>\n",
       "      <td>...</td>\n",
       "      <td>0.6667</td>\n",
       "      <td>-0.0402</td>\n",
       "      <td>0.4025</td>\n",
       "      <td>0</td>\n",
       "      <td>0</td>\n",
       "      <td>1</td>\n",
       "      <td>0</td>\n",
       "      <td>0</td>\n",
       "      <td>0</td>\n",
       "      <td>0</td>\n",
       "    </tr>\n",
       "    <tr>\n",
       "      <th>4</th>\n",
       "      <td>4</td>\n",
       "      <td>1540</td>\n",
       "      <td>1560</td>\n",
       "      <td>618457</td>\n",
       "      <td>618502</td>\n",
       "      <td>521</td>\n",
       "      <td>72</td>\n",
       "      <td>67</td>\n",
       "      <td>48231</td>\n",
       "      <td>82</td>\n",
       "      <td>...</td>\n",
       "      <td>0.9158</td>\n",
       "      <td>-0.2455</td>\n",
       "      <td>0.9998</td>\n",
       "      <td>0</td>\n",
       "      <td>0</td>\n",
       "      <td>0</td>\n",
       "      <td>0</td>\n",
       "      <td>0</td>\n",
       "      <td>0</td>\n",
       "      <td>1</td>\n",
       "    </tr>\n",
       "  </tbody>\n",
       "</table>\n",
       "<p>5 rows × 35 columns</p>\n",
       "</div>"
      ],
      "text/plain": [
       "   id  X_Minimum  X_Maximum  Y_Minimum  Y_Maximum  Pixels_Areas  X_Perimeter  \\\n",
       "0   0        584        590     909972     909977            16            8   \n",
       "1   1        808        816     728350     728372           433           20   \n",
       "2   2         39        192    2212076    2212144         11388          705   \n",
       "3   3        781        789    3353146    3353173           210           16   \n",
       "4   4       1540       1560     618457     618502           521           72   \n",
       "\n",
       "   Y_Perimeter  Sum_of_Luminosity  Minimum_of_Luminosity  ...  \\\n",
       "0            5               2274                    113  ...   \n",
       "1           54              44478                     70  ...   \n",
       "2          420            1311391                     29  ...   \n",
       "3           29               3202                    114  ...   \n",
       "4           67              48231                     82  ...   \n",
       "\n",
       "   Orientation_Index  Luminosity_Index  SigmoidOfAreas  Pastry  Z_Scratch  \\\n",
       "0            -0.5000           -0.0104          0.1417       0          0   \n",
       "1             0.7419           -0.2997          0.9491       0          0   \n",
       "2            -0.0105           -0.0944          1.0000       0          0   \n",
       "3             0.6667           -0.0402          0.4025       0          0   \n",
       "4             0.9158           -0.2455          0.9998       0          0   \n",
       "\n",
       "   K_Scatch  Stains  Dirtiness  Bumps  Other_Faults  \n",
       "0         0       1          0      0             0  \n",
       "1         0       0          0      0             1  \n",
       "2         1       0          0      0             0  \n",
       "3         1       0          0      0             0  \n",
       "4         0       0          0      0             1  \n",
       "\n",
       "[5 rows x 35 columns]"
      ]
     },
     "execution_count": 3,
     "metadata": {},
     "output_type": "execute_result"
    }
   ],
   "source": [
    "train.head()"
   ]
  },
  {
   "cell_type": "code",
   "execution_count": 4,
   "metadata": {
    "execution": {
     "iopub.execute_input": "2024-05-24T11:52:31.875319Z",
     "iopub.status.busy": "2024-05-24T11:52:31.874708Z",
     "iopub.status.idle": "2024-05-24T11:52:31.935320Z",
     "shell.execute_reply": "2024-05-24T11:52:31.934070Z",
     "shell.execute_reply.started": "2024-05-24T11:52:31.875258Z"
    }
   },
   "outputs": [
    {
     "data": {
      "text/html": [
       "<div>\n",
       "<style scoped>\n",
       "    .dataframe tbody tr th:only-of-type {\n",
       "        vertical-align: middle;\n",
       "    }\n",
       "\n",
       "    .dataframe tbody tr th {\n",
       "        vertical-align: top;\n",
       "    }\n",
       "\n",
       "    .dataframe thead th {\n",
       "        text-align: right;\n",
       "    }\n",
       "</style>\n",
       "<table border=\"1\" class=\"dataframe\">\n",
       "  <thead>\n",
       "    <tr style=\"text-align: right;\">\n",
       "      <th></th>\n",
       "      <th>id</th>\n",
       "      <th>X_Minimum</th>\n",
       "      <th>X_Maximum</th>\n",
       "      <th>Y_Minimum</th>\n",
       "      <th>Y_Maximum</th>\n",
       "      <th>Pixels_Areas</th>\n",
       "      <th>X_Perimeter</th>\n",
       "      <th>Y_Perimeter</th>\n",
       "      <th>Sum_of_Luminosity</th>\n",
       "      <th>Minimum_of_Luminosity</th>\n",
       "      <th>...</th>\n",
       "      <th>Outside_X_Index</th>\n",
       "      <th>Edges_X_Index</th>\n",
       "      <th>Edges_Y_Index</th>\n",
       "      <th>Outside_Global_Index</th>\n",
       "      <th>LogOfAreas</th>\n",
       "      <th>Log_X_Index</th>\n",
       "      <th>Log_Y_Index</th>\n",
       "      <th>Orientation_Index</th>\n",
       "      <th>Luminosity_Index</th>\n",
       "      <th>SigmoidOfAreas</th>\n",
       "    </tr>\n",
       "  </thead>\n",
       "  <tbody>\n",
       "    <tr>\n",
       "      <th>0</th>\n",
       "      <td>19219</td>\n",
       "      <td>1015</td>\n",
       "      <td>1033</td>\n",
       "      <td>3826564</td>\n",
       "      <td>3826588</td>\n",
       "      <td>659</td>\n",
       "      <td>23</td>\n",
       "      <td>46</td>\n",
       "      <td>62357</td>\n",
       "      <td>67</td>\n",
       "      <td>...</td>\n",
       "      <td>0.0095</td>\n",
       "      <td>0.5652</td>\n",
       "      <td>1.0000</td>\n",
       "      <td>1.0</td>\n",
       "      <td>2.8410</td>\n",
       "      <td>1.1139</td>\n",
       "      <td>1.6628</td>\n",
       "      <td>0.6727</td>\n",
       "      <td>-0.2261</td>\n",
       "      <td>0.9172</td>\n",
       "    </tr>\n",
       "    <tr>\n",
       "      <th>1</th>\n",
       "      <td>19220</td>\n",
       "      <td>1257</td>\n",
       "      <td>1271</td>\n",
       "      <td>419960</td>\n",
       "      <td>419973</td>\n",
       "      <td>370</td>\n",
       "      <td>26</td>\n",
       "      <td>28</td>\n",
       "      <td>39293</td>\n",
       "      <td>92</td>\n",
       "      <td>...</td>\n",
       "      <td>0.0047</td>\n",
       "      <td>0.2414</td>\n",
       "      <td>1.0000</td>\n",
       "      <td>1.0</td>\n",
       "      <td>2.5682</td>\n",
       "      <td>0.9031</td>\n",
       "      <td>1.4472</td>\n",
       "      <td>0.9063</td>\n",
       "      <td>-0.1453</td>\n",
       "      <td>0.9104</td>\n",
       "    </tr>\n",
       "    <tr>\n",
       "      <th>2</th>\n",
       "      <td>19221</td>\n",
       "      <td>1358</td>\n",
       "      <td>1372</td>\n",
       "      <td>117715</td>\n",
       "      <td>117724</td>\n",
       "      <td>289</td>\n",
       "      <td>36</td>\n",
       "      <td>32</td>\n",
       "      <td>29386</td>\n",
       "      <td>101</td>\n",
       "      <td>...</td>\n",
       "      <td>0.0155</td>\n",
       "      <td>0.6000</td>\n",
       "      <td>0.7500</td>\n",
       "      <td>0.0</td>\n",
       "      <td>2.4609</td>\n",
       "      <td>1.3222</td>\n",
       "      <td>1.3222</td>\n",
       "      <td>-0.5238</td>\n",
       "      <td>-0.0435</td>\n",
       "      <td>0.6514</td>\n",
       "    </tr>\n",
       "    <tr>\n",
       "      <th>3</th>\n",
       "      <td>19222</td>\n",
       "      <td>158</td>\n",
       "      <td>168</td>\n",
       "      <td>232415</td>\n",
       "      <td>232440</td>\n",
       "      <td>80</td>\n",
       "      <td>10</td>\n",
       "      <td>11</td>\n",
       "      <td>8586</td>\n",
       "      <td>107</td>\n",
       "      <td>...</td>\n",
       "      <td>0.0037</td>\n",
       "      <td>0.8000</td>\n",
       "      <td>1.0000</td>\n",
       "      <td>1.0</td>\n",
       "      <td>1.9031</td>\n",
       "      <td>0.6990</td>\n",
       "      <td>1.0414</td>\n",
       "      <td>0.1818</td>\n",
       "      <td>-0.0738</td>\n",
       "      <td>0.2051</td>\n",
       "    </tr>\n",
       "    <tr>\n",
       "      <th>4</th>\n",
       "      <td>19223</td>\n",
       "      <td>559</td>\n",
       "      <td>592</td>\n",
       "      <td>544375</td>\n",
       "      <td>544389</td>\n",
       "      <td>140</td>\n",
       "      <td>19</td>\n",
       "      <td>15</td>\n",
       "      <td>15524</td>\n",
       "      <td>103</td>\n",
       "      <td>...</td>\n",
       "      <td>0.0158</td>\n",
       "      <td>0.8421</td>\n",
       "      <td>0.5333</td>\n",
       "      <td>0.0</td>\n",
       "      <td>2.1461</td>\n",
       "      <td>1.3222</td>\n",
       "      <td>1.1461</td>\n",
       "      <td>-0.5714</td>\n",
       "      <td>-0.0894</td>\n",
       "      <td>0.4170</td>\n",
       "    </tr>\n",
       "  </tbody>\n",
       "</table>\n",
       "<p>5 rows × 28 columns</p>\n",
       "</div>"
      ],
      "text/plain": [
       "      id  X_Minimum  X_Maximum  Y_Minimum  Y_Maximum  Pixels_Areas  \\\n",
       "0  19219       1015       1033    3826564    3826588           659   \n",
       "1  19220       1257       1271     419960     419973           370   \n",
       "2  19221       1358       1372     117715     117724           289   \n",
       "3  19222        158        168     232415     232440            80   \n",
       "4  19223        559        592     544375     544389           140   \n",
       "\n",
       "   X_Perimeter  Y_Perimeter  Sum_of_Luminosity  Minimum_of_Luminosity  ...  \\\n",
       "0           23           46              62357                     67  ...   \n",
       "1           26           28              39293                     92  ...   \n",
       "2           36           32              29386                    101  ...   \n",
       "3           10           11               8586                    107  ...   \n",
       "4           19           15              15524                    103  ...   \n",
       "\n",
       "   Outside_X_Index  Edges_X_Index  Edges_Y_Index  Outside_Global_Index  \\\n",
       "0           0.0095         0.5652         1.0000                   1.0   \n",
       "1           0.0047         0.2414         1.0000                   1.0   \n",
       "2           0.0155         0.6000         0.7500                   0.0   \n",
       "3           0.0037         0.8000         1.0000                   1.0   \n",
       "4           0.0158         0.8421         0.5333                   0.0   \n",
       "\n",
       "   LogOfAreas  Log_X_Index  Log_Y_Index  Orientation_Index  Luminosity_Index  \\\n",
       "0      2.8410       1.1139       1.6628             0.6727           -0.2261   \n",
       "1      2.5682       0.9031       1.4472             0.9063           -0.1453   \n",
       "2      2.4609       1.3222       1.3222            -0.5238           -0.0435   \n",
       "3      1.9031       0.6990       1.0414             0.1818           -0.0738   \n",
       "4      2.1461       1.3222       1.1461            -0.5714           -0.0894   \n",
       "\n",
       "   SigmoidOfAreas  \n",
       "0          0.9172  \n",
       "1          0.9104  \n",
       "2          0.6514  \n",
       "3          0.2051  \n",
       "4          0.4170  \n",
       "\n",
       "[5 rows x 28 columns]"
      ]
     },
     "execution_count": 4,
     "metadata": {},
     "output_type": "execute_result"
    }
   ],
   "source": [
    "test.head()"
   ]
  },
  {
   "cell_type": "code",
   "execution_count": 5,
   "metadata": {
    "execution": {
     "iopub.execute_input": "2024-05-24T11:52:31.938843Z",
     "iopub.status.busy": "2024-05-24T11:52:31.937559Z",
     "iopub.status.idle": "2024-05-24T11:52:31.959670Z",
     "shell.execute_reply": "2024-05-24T11:52:31.958146Z",
     "shell.execute_reply.started": "2024-05-24T11:52:31.938797Z"
    }
   },
   "outputs": [
    {
     "data": {
      "text/plain": [
       "id                       0\n",
       "X_Minimum                0\n",
       "X_Maximum                0\n",
       "Y_Minimum                0\n",
       "Y_Maximum                0\n",
       "Pixels_Areas             0\n",
       "X_Perimeter              0\n",
       "Y_Perimeter              0\n",
       "Sum_of_Luminosity        0\n",
       "Minimum_of_Luminosity    0\n",
       "Maximum_of_Luminosity    0\n",
       "Length_of_Conveyer       0\n",
       "TypeOfSteel_A300         0\n",
       "TypeOfSteel_A400         0\n",
       "Steel_Plate_Thickness    0\n",
       "Edges_Index              0\n",
       "Empty_Index              0\n",
       "Square_Index             0\n",
       "Outside_X_Index          0\n",
       "Edges_X_Index            0\n",
       "Edges_Y_Index            0\n",
       "Outside_Global_Index     0\n",
       "LogOfAreas               0\n",
       "Log_X_Index              0\n",
       "Log_Y_Index              0\n",
       "Orientation_Index        0\n",
       "Luminosity_Index         0\n",
       "SigmoidOfAreas           0\n",
       "Pastry                   0\n",
       "Z_Scratch                0\n",
       "K_Scatch                 0\n",
       "Stains                   0\n",
       "Dirtiness                0\n",
       "Bumps                    0\n",
       "Other_Faults             0\n",
       "dtype: int64"
      ]
     },
     "execution_count": 5,
     "metadata": {},
     "output_type": "execute_result"
    }
   ],
   "source": [
    "train.isnull().sum()"
   ]
  },
  {
   "cell_type": "code",
   "execution_count": 6,
   "metadata": {
    "execution": {
     "iopub.execute_input": "2024-05-24T11:52:31.968159Z",
     "iopub.status.busy": "2024-05-24T11:52:31.967228Z",
     "iopub.status.idle": "2024-05-24T11:53:06.820453Z",
     "shell.execute_reply": "2024-05-24T11:53:06.818984Z",
     "shell.execute_reply.started": "2024-05-24T11:52:31.968095Z"
    }
   },
   "outputs": [
    {
     "name": "stdout",
     "output_type": "stream",
     "text": [
      "Pastry Accuracy: 0.9227367325702394\n",
      "Z_Scratch Accuracy: 0.9521331945889698\n",
      "K_Scatch Accuracy: 0.9646201873048907\n",
      "Stains Accuracy: 0.9802289281997919\n",
      "Dirtiness Accuracy: 0.9778876170655567\n",
      "Bumps Accuracy: 0.7806971904266389\n",
      "Other_Faults Accuracy: 0.6646722164412071\n"
     ]
    }
   ],
   "source": [
    "from sklearn.model_selection import train_test_split\n",
    "from sklearn.multioutput import MultiOutputClassifier\n",
    "from sklearn.ensemble import RandomForestClassifier\n",
    "from sklearn.metrics import accuracy_score\n",
    "\n",
    "X = train.drop(columns=['Pastry', 'Z_Scratch', 'K_Scatch', 'Stains', 'Dirtiness', 'Bumps', 'Other_Faults'])\n",
    "y = train[['Pastry', 'Z_Scratch', 'K_Scatch', 'Stains', 'Dirtiness', 'Bumps', 'Other_Faults']]\n",
    "\n",
    "X_train, X_test, y_train, y_test = train_test_split(X, y, test_size=0.2, random_state=42)\n",
    "\n",
    "model_multi = MultiOutputClassifier(RandomForestClassifier())\n",
    "model_multi.fit(X_train, y_train)\n",
    "y_pred = model_multi.predict(X_test)\n",
    "\n",
    "for i, target in enumerate(y.columns):\n",
    "    print(f\"{target} Accuracy:\", accuracy_score(y_test[target], y_pred[:, i]))\n"
   ]
  },
  {
   "cell_type": "code",
   "execution_count": 7,
   "metadata": {
    "execution": {
     "iopub.execute_input": "2024-05-24T11:53:06.822462Z",
     "iopub.status.busy": "2024-05-24T11:53:06.822089Z",
     "iopub.status.idle": "2024-05-24T11:53:08.461572Z",
     "shell.execute_reply": "2024-05-24T11:53:08.460412Z",
     "shell.execute_reply.started": "2024-05-24T11:53:06.822432Z"
    }
   },
   "outputs": [
    {
     "name": "stderr",
     "output_type": "stream",
     "text": [
      "/opt/conda/lib/python3.10/site-packages/sklearn/linear_model/_logistic.py:458: ConvergenceWarning: lbfgs failed to converge (status=1):\n",
      "STOP: TOTAL NO. of ITERATIONS REACHED LIMIT.\n",
      "\n",
      "Increase the number of iterations (max_iter) or scale the data as shown in:\n",
      "    https://scikit-learn.org/stable/modules/preprocessing.html\n",
      "Please also refer to the documentation for alternative solver options:\n",
      "    https://scikit-learn.org/stable/modules/linear_model.html#logistic-regression\n",
      "  n_iter_i = _check_optimize_result(\n",
      "/opt/conda/lib/python3.10/site-packages/sklearn/linear_model/_logistic.py:458: ConvergenceWarning: lbfgs failed to converge (status=1):\n",
      "STOP: TOTAL NO. of ITERATIONS REACHED LIMIT.\n",
      "\n",
      "Increase the number of iterations (max_iter) or scale the data as shown in:\n",
      "    https://scikit-learn.org/stable/modules/preprocessing.html\n",
      "Please also refer to the documentation for alternative solver options:\n",
      "    https://scikit-learn.org/stable/modules/linear_model.html#logistic-regression\n",
      "  n_iter_i = _check_optimize_result(\n"
     ]
    },
    {
     "name": "stdout",
     "output_type": "stream",
     "text": [
      "Pastry Accuracy: 0.9216961498439126\n",
      "Z_Scratch Accuracy: 0.9427679500520292\n",
      "K_Scatch Accuracy: 0.9562955254942768\n",
      "Stains Accuracy: 0.9737252861602498\n",
      "Dirtiness Accuracy: 0.9778876170655567\n",
      "Bumps Accuracy: 0.759105098855359\n",
      "Other_Faults Accuracy: 0.649063475546306\n"
     ]
    }
   ],
   "source": [
    "from sklearn.multioutput import MultiOutputClassifier\n",
    "from sklearn.linear_model import LogisticRegression\n",
    "from sklearn.metrics import accuracy_score\n",
    "\n",
    "X = train.drop(columns=['Pastry', 'Z_Scratch', 'K_Scatch', 'Stains', 'Dirtiness', 'Bumps', 'Other_Faults'])\n",
    "y = train[['Pastry', 'Z_Scratch', 'K_Scatch', 'Stains', 'Dirtiness', 'Bumps', 'Other_Faults']]\n",
    "\n",
    "X_train, X_test, y_train, y_test = train_test_split(X, y, test_size=0.2, random_state=42)\n",
    "\n",
    "model_multi = MultiOutputClassifier(LogisticRegression())\n",
    "model_multi.fit(X_train, y_train)\n",
    "y_pred = model_multi.predict(X_test)\n",
    "\n",
    "for i, target in enumerate(y.columns):\n",
    "    print(f\"{target} Accuracy:\", accuracy_score(y_test[target], y_pred[:, i]))\n"
   ]
  },
  {
   "cell_type": "code",
   "execution_count": 8,
   "metadata": {
    "execution": {
     "iopub.execute_input": "2024-05-24T11:53:08.464332Z",
     "iopub.status.busy": "2024-05-24T11:53:08.463503Z",
     "iopub.status.idle": "2024-05-24T11:53:12.773380Z",
     "shell.execute_reply": "2024-05-24T11:53:12.772441Z",
     "shell.execute_reply.started": "2024-05-24T11:53:08.464290Z"
    }
   },
   "outputs": [
    {
     "name": "stderr",
     "output_type": "stream",
     "text": [
      "/tmp/ipykernel_2943/1904085846.py:7: DataConversionWarning: A column-vector y was passed when a 1d array was expected. Please change the shape of y to (n_samples,), for example using ravel().\n",
      "  clf.fit(X, y)\n"
     ]
    },
    {
     "name": "stdout",
     "output_type": "stream",
     "text": [
      "Pixels_Areas: 0.1189549922094188\n",
      "SigmoidOfAreas: 0.11467559868839187\n",
      "LogOfAreas: 0.11395482171727153\n",
      "Sum_of_Luminosity: 0.09835116219914154\n",
      "Y_Perimeter: 0.061808140000622167\n",
      "Steel_Plate_Thickness: 0.059416758499573896\n",
      "X_Perimeter: 0.037113646496872314\n",
      "Length_of_Conveyer: 0.032555679807238065\n",
      "Luminosity_Index: 0.030795622065751923\n",
      "Log_Y_Index: 0.029541403575651867\n",
      "Log_X_Index: 0.027544015781466213\n",
      "Edges_Index: 0.025180732851956683\n",
      "X_Minimum: 0.023719524617687462\n",
      "Empty_Index: 0.02284632404171816\n",
      "X_Maximum: 0.022683888540080837\n",
      "Minimum_of_Luminosity: 0.021044319538720862\n",
      "Y_Maximum: 0.02089167082574326\n",
      "Y_Minimum: 0.020697912747556675\n",
      "Edges_X_Index: 0.020397810991557627\n",
      "Orientation_Index: 0.018331401454764945\n",
      "Maximum_of_Luminosity: 0.01800733378590315\n",
      "Outside_X_Index: 0.017281826007338515\n",
      "Square_Index: 0.0151417660480894\n",
      "TypeOfSteel_A300: 0.009088406002774553\n",
      "TypeOfSteel_A400: 0.008005068342513336\n",
      "Edges_Y_Index: 0.007300052893393312\n",
      "Outside_Global_Index: 0.004670120268801086\n"
     ]
    }
   ],
   "source": [
    "from sklearn.ensemble import RandomForestClassifier\n",
    "\n",
    "X = train.drop(columns=['Pastry', 'Z_Scratch', 'K_Scatch', 'Stains', 'Dirtiness', 'Bumps', 'Other_Faults','id'])\n",
    "y = train[['Stains']]\n",
    "\n",
    "clf = RandomForestClassifier()\n",
    "clf.fit(X, y)\n",
    "pred = clf.predict(X)\n",
    "feature_importance = clf.feature_importances_\n",
    "columns=X.columns\n",
    "feature_importance_sorting = sorted(zip(columns, feature_importance), key=lambda x: x[1], reverse=True)\n",
    "for f, i in feature_importance_sorting:\n",
    "    print(f\"{f}: {i}\")"
   ]
  },
  {
   "cell_type": "code",
   "execution_count": 9,
   "metadata": {
    "execution": {
     "iopub.execute_input": "2024-05-24T11:53:12.775580Z",
     "iopub.status.busy": "2024-05-24T11:53:12.775105Z",
     "iopub.status.idle": "2024-05-24T11:53:12.819477Z",
     "shell.execute_reply": "2024-05-24T11:53:12.818118Z",
     "shell.execute_reply.started": "2024-05-24T11:53:12.775534Z"
    }
   },
   "outputs": [],
   "source": [
    "\n",
    "for f, i in feature_importance_sorting:\n",
    "    if i < 0.025:\n",
    "        train.drop(f, axis=1, inplace=True)\n",
    "        test.drop(f, axis=1, inplace=True)\n",
    "    else:\n",
    "        continue"
   ]
  },
  {
   "cell_type": "code",
   "execution_count": 10,
   "metadata": {
    "execution": {
     "iopub.execute_input": "2024-05-24T11:53:12.825149Z",
     "iopub.status.busy": "2024-05-24T11:53:12.824743Z",
     "iopub.status.idle": "2024-05-24T11:53:34.848154Z",
     "shell.execute_reply": "2024-05-24T11:53:34.847040Z",
     "shell.execute_reply.started": "2024-05-24T11:53:12.825119Z"
    }
   },
   "outputs": [
    {
     "name": "stdout",
     "output_type": "stream",
     "text": [
      "Pastry Accuracy: 0.9224765868886576\n",
      "Z_Scratch Accuracy: 0.9497918834547346\n",
      "K_Scatch Accuracy: 0.9633194588969823\n",
      "Stains Accuracy: 0.9820499479708636\n",
      "Dirtiness Accuracy: 0.9773673257023934\n",
      "Bumps Accuracy: 0.7757544224765869\n",
      "Other_Faults Accuracy: 0.6612903225806451\n"
     ]
    }
   ],
   "source": [
    "from sklearn.multioutput import MultiOutputClassifier\n",
    "from sklearn.ensemble import RandomForestClassifier\n",
    "from sklearn.metrics import accuracy_score\n",
    "\n",
    "X = train.drop(columns=['Pastry', 'Z_Scratch', 'K_Scatch', 'Stains', 'Dirtiness', 'Bumps', 'Other_Faults','id'])\n",
    "y = train[['Pastry', 'Z_Scratch', 'K_Scatch', 'Stains', 'Dirtiness', 'Bumps', 'Other_Faults']]\n",
    "\n",
    "X_train, X_test, y_train, y_test = train_test_split(X, y, test_size=0.2, random_state=42)\n",
    "\n",
    "model_multi = MultiOutputClassifier(RandomForestClassifier())\n",
    "model_multi.fit(X_train, y_train)\n",
    "y_pred = model_multi.predict(X_test)\n",
    "\n",
    "for i, target in enumerate(y.columns):\n",
    "    print(f\"{target} Accuracy:\", accuracy_score(y_test[target], y_pred[:, i]))\n"
   ]
  },
  {
   "cell_type": "code",
   "execution_count": 11,
   "metadata": {
    "execution": {
     "iopub.execute_input": "2024-05-24T11:53:34.849810Z",
     "iopub.status.busy": "2024-05-24T11:53:34.849440Z",
     "iopub.status.idle": "2024-05-24T11:53:38.746900Z",
     "shell.execute_reply": "2024-05-24T11:53:38.745313Z",
     "shell.execute_reply.started": "2024-05-24T11:53:34.849779Z"
    }
   },
   "outputs": [
    {
     "name": "stderr",
     "output_type": "stream",
     "text": [
      "2024-05-24 11:53:35.308597: E external/local_xla/xla/stream_executor/cuda/cuda_dnn.cc:9261] Unable to register cuDNN factory: Attempting to register factory for plugin cuDNN when one has already been registered\n",
      "2024-05-24 11:53:35.308678: E external/local_xla/xla/stream_executor/cuda/cuda_fft.cc:607] Unable to register cuFFT factory: Attempting to register factory for plugin cuFFT when one has already been registered\n",
      "2024-05-24 11:53:35.310468: E external/local_xla/xla/stream_executor/cuda/cuda_blas.cc:1515] Unable to register cuBLAS factory: Attempting to register factory for plugin cuBLAS when one has already been registered\n"
     ]
    }
   ],
   "source": [
    "from sklearn.model_selection import train_test_split\n",
    "from keras.models import Sequential\n",
    "from keras.layers import Dense, Dropout\n",
    "from sklearn.preprocessing import StandardScaler"
   ]
  },
  {
   "cell_type": "markdown",
   "metadata": {},
   "source": [
    "# Pastry"
   ]
  },
  {
   "cell_type": "code",
   "execution_count": 12,
   "metadata": {
    "execution": {
     "iopub.execute_input": "2024-05-24T11:53:38.752392Z",
     "iopub.status.busy": "2024-05-24T11:53:38.750666Z",
     "iopub.status.idle": "2024-05-24T11:53:38.775479Z",
     "shell.execute_reply": "2024-05-24T11:53:38.774224Z",
     "shell.execute_reply.started": "2024-05-24T11:53:38.752352Z"
    }
   },
   "outputs": [],
   "source": [
    "X = train.drop(columns=['Pastry', 'Z_Scratch', 'K_Scatch', 'Stains', 'Dirtiness', 'Bumps', 'Other_Faults','id'])\n",
    "y=train[\"Pastry\"]\n",
    "scaler = StandardScaler()\n",
    "X=scaler.fit_transform(X)\n",
    "x_train, x_test, y_train, y_test = train_test_split(X, y, test_size=0.2, random_state=42)"
   ]
  },
  {
   "cell_type": "code",
   "execution_count": 13,
   "metadata": {
    "execution": {
     "iopub.execute_input": "2024-05-24T11:53:38.777217Z",
     "iopub.status.busy": "2024-05-24T11:53:38.776865Z",
     "iopub.status.idle": "2024-05-24T11:53:38.911737Z",
     "shell.execute_reply": "2024-05-24T11:53:38.910556Z",
     "shell.execute_reply.started": "2024-05-24T11:53:38.777190Z"
    }
   },
   "outputs": [
    {
     "name": "stderr",
     "output_type": "stream",
     "text": [
      "/opt/conda/lib/python3.10/site-packages/keras/src/layers/core/dense.py:86: UserWarning: Do not pass an `input_shape`/`input_dim` argument to a layer. When using Sequential models, prefer using an `Input(shape)` object as the first layer in the model instead.\n",
      "  super().__init__(activity_regularizer=activity_regularizer, **kwargs)\n"
     ]
    }
   ],
   "source": [
    "model=Sequential()\n",
    "model.add(Dense(128,activation=\"relu\",input_shape=(x_train.shape[1],)))\n",
    "model.add(Dropout(0.2))\n",
    "model.add(Dense(64,activation=\"relu\"))\n",
    "model.add(Dense(32,activation=\"relu\"))\n",
    "model.add(Dropout(0.2))\n",
    "model.add(Dense(16,activation=\"relu\"))\n",
    "model.add(Dense(1,activation=\"sigmoid\"))\n",
    "model.compile(optimizer=\"adam\",loss=\"binary_crossentropy\",metrics=[\"accuracy\"])"
   ]
  },
  {
   "cell_type": "code",
   "execution_count": 14,
   "metadata": {
    "execution": {
     "iopub.execute_input": "2024-05-24T11:53:38.913556Z",
     "iopub.status.busy": "2024-05-24T11:53:38.913197Z",
     "iopub.status.idle": "2024-05-24T11:53:52.881937Z",
     "shell.execute_reply": "2024-05-24T11:53:52.880759Z",
     "shell.execute_reply.started": "2024-05-24T11:53:38.913527Z"
    }
   },
   "outputs": [
    {
     "name": "stdout",
     "output_type": "stream",
     "text": [
      "Epoch 1/10\n",
      "\u001b[1m481/481\u001b[0m \u001b[32m━━━━━━━━━━━━━━━━━━━━\u001b[0m\u001b[37m\u001b[0m \u001b[1m3s\u001b[0m 3ms/step - accuracy: 0.9233 - loss: 0.2803 - val_accuracy: 0.9217 - val_loss: 0.2164\n",
      "Epoch 2/10\n",
      "\u001b[1m481/481\u001b[0m \u001b[32m━━━━━━━━━━━━━━━━━━━━\u001b[0m\u001b[37m\u001b[0m \u001b[1m1s\u001b[0m 2ms/step - accuracy: 0.9230 - loss: 0.2225 - val_accuracy: 0.9217 - val_loss: 0.2119\n",
      "Epoch 3/10\n",
      "\u001b[1m481/481\u001b[0m \u001b[32m━━━━━━━━━━━━━━━━━━━━\u001b[0m\u001b[37m\u001b[0m \u001b[1m1s\u001b[0m 2ms/step - accuracy: 0.9262 - loss: 0.2085 - val_accuracy: 0.9217 - val_loss: 0.2118\n",
      "Epoch 4/10\n",
      "\u001b[1m481/481\u001b[0m \u001b[32m━━━━━━━━━━━━━━━━━━━━\u001b[0m\u001b[37m\u001b[0m \u001b[1m1s\u001b[0m 2ms/step - accuracy: 0.9198 - loss: 0.2204 - val_accuracy: 0.9217 - val_loss: 0.2117\n",
      "Epoch 5/10\n",
      "\u001b[1m481/481\u001b[0m \u001b[32m━━━━━━━━━━━━━━━━━━━━\u001b[0m\u001b[37m\u001b[0m \u001b[1m1s\u001b[0m 2ms/step - accuracy: 0.9266 - loss: 0.2103 - val_accuracy: 0.9217 - val_loss: 0.2131\n",
      "Epoch 6/10\n",
      "\u001b[1m481/481\u001b[0m \u001b[32m━━━━━━━━━━━━━━━━━━━━\u001b[0m\u001b[37m\u001b[0m \u001b[1m1s\u001b[0m 2ms/step - accuracy: 0.9220 - loss: 0.2169 - val_accuracy: 0.9217 - val_loss: 0.2137\n",
      "Epoch 7/10\n",
      "\u001b[1m481/481\u001b[0m \u001b[32m━━━━━━━━━━━━━━━━━━━━\u001b[0m\u001b[37m\u001b[0m \u001b[1m1s\u001b[0m 2ms/step - accuracy: 0.9225 - loss: 0.2129 - val_accuracy: 0.9217 - val_loss: 0.2130\n",
      "Epoch 8/10\n",
      "\u001b[1m481/481\u001b[0m \u001b[32m━━━━━━━━━━━━━━━━━━━━\u001b[0m\u001b[37m\u001b[0m \u001b[1m1s\u001b[0m 2ms/step - accuracy: 0.9242 - loss: 0.2062 - val_accuracy: 0.9217 - val_loss: 0.2124\n",
      "Epoch 9/10\n",
      "\u001b[1m481/481\u001b[0m \u001b[32m━━━━━━━━━━━━━━━━━━━━\u001b[0m\u001b[37m\u001b[0m \u001b[1m1s\u001b[0m 2ms/step - accuracy: 0.9234 - loss: 0.2103 - val_accuracy: 0.9217 - val_loss: 0.2132\n",
      "Epoch 10/10\n",
      "\u001b[1m481/481\u001b[0m \u001b[32m━━━━━━━━━━━━━━━━━━━━\u001b[0m\u001b[37m\u001b[0m \u001b[1m1s\u001b[0m 2ms/step - accuracy: 0.9248 - loss: 0.2075 - val_accuracy: 0.9217 - val_loss: 0.2139\n"
     ]
    }
   ],
   "source": [
    "history=model.fit(x_train,y_train,epochs=10,validation_data=(x_test,y_test))"
   ]
  },
  {
   "cell_type": "code",
   "execution_count": 15,
   "metadata": {
    "execution": {
     "iopub.execute_input": "2024-05-24T11:53:52.885581Z",
     "iopub.status.busy": "2024-05-24T11:53:52.885103Z",
     "iopub.status.idle": "2024-05-24T11:53:53.604804Z",
     "shell.execute_reply": "2024-05-24T11:53:53.603582Z",
     "shell.execute_reply.started": "2024-05-24T11:53:52.885541Z"
    }
   },
   "outputs": [
    {
     "name": "stdout",
     "output_type": "stream",
     "text": [
      "\u001b[1m121/121\u001b[0m \u001b[32m━━━━━━━━━━━━━━━━━━━━\u001b[0m\u001b[37m\u001b[0m \u001b[1m0s\u001b[0m 2ms/step\n"
     ]
    },
    {
     "data": {
      "text/plain": [
       "0.9216961498439126"
      ]
     },
     "execution_count": 15,
     "metadata": {},
     "output_type": "execute_result"
    }
   ],
   "source": [
    "y_pred=model.predict(x_test)\n",
    "accuracy_score(y_test,y_pred.round())"
   ]
  },
  {
   "cell_type": "code",
   "execution_count": 16,
   "metadata": {
    "execution": {
     "iopub.execute_input": "2024-05-24T11:53:53.606752Z",
     "iopub.status.busy": "2024-05-24T11:53:53.606407Z",
     "iopub.status.idle": "2024-05-24T11:53:53.649698Z",
     "shell.execute_reply": "2024-05-24T11:53:53.648510Z",
     "shell.execute_reply.started": "2024-05-24T11:53:53.606723Z"
    }
   },
   "outputs": [],
   "source": [
    "model.save(\"pastry.h5\")"
   ]
  },
  {
   "cell_type": "markdown",
   "metadata": {},
   "source": [
    "# Z_Scratch"
   ]
  },
  {
   "cell_type": "code",
   "execution_count": 17,
   "metadata": {
    "execution": {
     "iopub.execute_input": "2024-05-24T11:53:53.651691Z",
     "iopub.status.busy": "2024-05-24T11:53:53.651365Z",
     "iopub.status.idle": "2024-05-24T11:53:53.672811Z",
     "shell.execute_reply": "2024-05-24T11:53:53.671683Z",
     "shell.execute_reply.started": "2024-05-24T11:53:53.651664Z"
    }
   },
   "outputs": [],
   "source": [
    "X = train.drop(columns=['Pastry', 'Z_Scratch', 'K_Scatch', 'Stains', 'Dirtiness', 'Bumps', 'Other_Faults','id'])\n",
    "y=train[\"Z_Scratch\"]\n",
    "scaler = StandardScaler()\n",
    "X=scaler.fit_transform(X)\n",
    "x_train, x_test, y_train, y_test = train_test_split(X, y, test_size=0.2, random_state=42)"
   ]
  },
  {
   "cell_type": "code",
   "execution_count": 18,
   "metadata": {
    "execution": {
     "iopub.execute_input": "2024-05-24T11:53:53.674505Z",
     "iopub.status.busy": "2024-05-24T11:53:53.674179Z",
     "iopub.status.idle": "2024-05-24T11:53:53.759971Z",
     "shell.execute_reply": "2024-05-24T11:53:53.758638Z",
     "shell.execute_reply.started": "2024-05-24T11:53:53.674477Z"
    }
   },
   "outputs": [
    {
     "name": "stderr",
     "output_type": "stream",
     "text": [
      "/opt/conda/lib/python3.10/site-packages/keras/src/layers/core/dense.py:86: UserWarning: Do not pass an `input_shape`/`input_dim` argument to a layer. When using Sequential models, prefer using an `Input(shape)` object as the first layer in the model instead.\n",
      "  super().__init__(activity_regularizer=activity_regularizer, **kwargs)\n"
     ]
    }
   ],
   "source": [
    "model=Sequential()\n",
    "model.add(Dense(128,activation=\"relu\",input_shape=(x_train.shape[1],)))\n",
    "model.add(Dropout(0.2))\n",
    "model.add(Dense(64,activation=\"relu\"))\n",
    "model.add(Dense(32,activation=\"relu\"))\n",
    "model.add(Dropout(0.2))\n",
    "model.add(Dense(16,activation=\"relu\"))\n",
    "model.add(Dense(1,activation=\"sigmoid\"))\n",
    "model.compile(optimizer=\"adam\",loss=\"binary_crossentropy\",metrics=[\"accuracy\"])"
   ]
  },
  {
   "cell_type": "code",
   "execution_count": 19,
   "metadata": {
    "execution": {
     "iopub.execute_input": "2024-05-24T11:53:53.762295Z",
     "iopub.status.busy": "2024-05-24T11:53:53.761843Z",
     "iopub.status.idle": "2024-05-24T11:54:10.646408Z",
     "shell.execute_reply": "2024-05-24T11:54:10.645337Z",
     "shell.execute_reply.started": "2024-05-24T11:53:53.762255Z"
    }
   },
   "outputs": [
    {
     "name": "stdout",
     "output_type": "stream",
     "text": [
      "Epoch 1/10\n",
      "\u001b[1m481/481\u001b[0m \u001b[32m━━━━━━━━━━━━━━━━━━━━\u001b[0m\u001b[37m\u001b[0m \u001b[1m3s\u001b[0m 3ms/step - accuracy: 0.9325 - loss: 0.2330 - val_accuracy: 0.9428 - val_loss: 0.1467\n",
      "Epoch 2/10\n",
      "\u001b[1m481/481\u001b[0m \u001b[32m━━━━━━━━━━━━━━━━━━━━\u001b[0m\u001b[37m\u001b[0m \u001b[1m2s\u001b[0m 2ms/step - accuracy: 0.9428 - loss: 0.1482 - val_accuracy: 0.9467 - val_loss: 0.1430\n",
      "Epoch 3/10\n",
      "\u001b[1m481/481\u001b[0m \u001b[32m━━━━━━━━━━━━━━━━━━━━\u001b[0m\u001b[37m\u001b[0m \u001b[1m1s\u001b[0m 2ms/step - accuracy: 0.9406 - loss: 0.1495 - val_accuracy: 0.9428 - val_loss: 0.1301\n",
      "Epoch 4/10\n",
      "\u001b[1m481/481\u001b[0m \u001b[32m━━━━━━━━━━━━━━━━━━━━\u001b[0m\u001b[37m\u001b[0m \u001b[1m1s\u001b[0m 3ms/step - accuracy: 0.9389 - loss: 0.1442 - val_accuracy: 0.9485 - val_loss: 0.1256\n",
      "Epoch 5/10\n",
      "\u001b[1m481/481\u001b[0m \u001b[32m━━━━━━━━━━━━━━━━━━━━\u001b[0m\u001b[37m\u001b[0m \u001b[1m1s\u001b[0m 3ms/step - accuracy: 0.9413 - loss: 0.1329 - val_accuracy: 0.9459 - val_loss: 0.1270\n",
      "Epoch 6/10\n",
      "\u001b[1m481/481\u001b[0m \u001b[32m━━━━━━━━━━━━━━━━━━━━\u001b[0m\u001b[37m\u001b[0m \u001b[1m1s\u001b[0m 3ms/step - accuracy: 0.9423 - loss: 0.1342 - val_accuracy: 0.9461 - val_loss: 0.1245\n",
      "Epoch 7/10\n",
      "\u001b[1m481/481\u001b[0m \u001b[32m━━━━━━━━━━━━━━━━━━━━\u001b[0m\u001b[37m\u001b[0m \u001b[1m2s\u001b[0m 2ms/step - accuracy: 0.9461 - loss: 0.1264 - val_accuracy: 0.9402 - val_loss: 0.1262\n",
      "Epoch 8/10\n",
      "\u001b[1m481/481\u001b[0m \u001b[32m━━━━━━━━━━━━━━━━━━━━\u001b[0m\u001b[37m\u001b[0m \u001b[1m1s\u001b[0m 2ms/step - accuracy: 0.9406 - loss: 0.1314 - val_accuracy: 0.9433 - val_loss: 0.1242\n",
      "Epoch 9/10\n",
      "\u001b[1m481/481\u001b[0m \u001b[32m━━━━━━━━━━━━━━━━━━━━\u001b[0m\u001b[37m\u001b[0m \u001b[1m1s\u001b[0m 2ms/step - accuracy: 0.9448 - loss: 0.1248 - val_accuracy: 0.9472 - val_loss: 0.1229\n",
      "Epoch 10/10\n",
      "\u001b[1m481/481\u001b[0m \u001b[32m━━━━━━━━━━━━━━━━━━━━\u001b[0m\u001b[37m\u001b[0m \u001b[1m1s\u001b[0m 2ms/step - accuracy: 0.9461 - loss: 0.1236 - val_accuracy: 0.9461 - val_loss: 0.1232\n"
     ]
    }
   ],
   "source": [
    "history=model.fit(x_train,y_train,epochs=10,validation_data=(x_test,y_test))"
   ]
  },
  {
   "cell_type": "code",
   "execution_count": 20,
   "metadata": {
    "execution": {
     "iopub.execute_input": "2024-05-24T11:54:10.648230Z",
     "iopub.status.busy": "2024-05-24T11:54:10.647895Z",
     "iopub.status.idle": "2024-05-24T11:54:11.016619Z",
     "shell.execute_reply": "2024-05-24T11:54:11.015260Z",
     "shell.execute_reply.started": "2024-05-24T11:54:10.648191Z"
    }
   },
   "outputs": [
    {
     "name": "stdout",
     "output_type": "stream",
     "text": [
      "\u001b[1m121/121\u001b[0m \u001b[32m━━━━━━━━━━━━━━━━━━━━\u001b[0m\u001b[37m\u001b[0m \u001b[1m0s\u001b[0m 2ms/step\n"
     ]
    },
    {
     "data": {
      "text/plain": [
       "0.946149843912591"
      ]
     },
     "execution_count": 20,
     "metadata": {},
     "output_type": "execute_result"
    }
   ],
   "source": [
    "y_pred=model.predict(x_test)\n",
    "accuracy_score(y_test,y_pred.round())"
   ]
  },
  {
   "cell_type": "code",
   "execution_count": 21,
   "metadata": {
    "execution": {
     "iopub.execute_input": "2024-05-24T11:54:11.019153Z",
     "iopub.status.busy": "2024-05-24T11:54:11.018287Z",
     "iopub.status.idle": "2024-05-24T11:54:11.049160Z",
     "shell.execute_reply": "2024-05-24T11:54:11.047880Z",
     "shell.execute_reply.started": "2024-05-24T11:54:11.019109Z"
    }
   },
   "outputs": [],
   "source": [
    "model.save(\"z_scratch.h5\")"
   ]
  },
  {
   "cell_type": "markdown",
   "metadata": {},
   "source": [
    "# K_Scatch"
   ]
  },
  {
   "cell_type": "code",
   "execution_count": 22,
   "metadata": {
    "execution": {
     "iopub.execute_input": "2024-05-24T11:54:11.051167Z",
     "iopub.status.busy": "2024-05-24T11:54:11.050827Z",
     "iopub.status.idle": "2024-05-24T11:54:11.070053Z",
     "shell.execute_reply": "2024-05-24T11:54:11.069004Z",
     "shell.execute_reply.started": "2024-05-24T11:54:11.051139Z"
    }
   },
   "outputs": [],
   "source": [
    "X = train.drop(columns=['Pastry', 'Z_Scratch', 'K_Scatch', 'Stains', 'Dirtiness', 'Bumps', 'Other_Faults','id'])\n",
    "y=train[\"K_Scatch\"]\n",
    "scaler = StandardScaler()\n",
    "X=scaler.fit_transform(X)\n",
    "x_train, x_test, y_train, y_test = train_test_split(X, y, test_size=0.2, random_state=42)"
   ]
  },
  {
   "cell_type": "code",
   "execution_count": 23,
   "metadata": {
    "execution": {
     "iopub.execute_input": "2024-05-24T11:54:11.072064Z",
     "iopub.status.busy": "2024-05-24T11:54:11.071717Z",
     "iopub.status.idle": "2024-05-24T11:54:11.160679Z",
     "shell.execute_reply": "2024-05-24T11:54:11.159523Z",
     "shell.execute_reply.started": "2024-05-24T11:54:11.072035Z"
    }
   },
   "outputs": [
    {
     "name": "stderr",
     "output_type": "stream",
     "text": [
      "/opt/conda/lib/python3.10/site-packages/keras/src/layers/core/dense.py:86: UserWarning: Do not pass an `input_shape`/`input_dim` argument to a layer. When using Sequential models, prefer using an `Input(shape)` object as the first layer in the model instead.\n",
      "  super().__init__(activity_regularizer=activity_regularizer, **kwargs)\n"
     ]
    }
   ],
   "source": [
    "model=Sequential()\n",
    "model.add(Dense(128,activation=\"relu\",input_shape=(x_train.shape[1],)))\n",
    "model.add(Dropout(0.2))\n",
    "model.add(Dense(64,activation=\"relu\"))\n",
    "model.add(Dense(32,activation=\"relu\"))\n",
    "model.add(Dropout(0.2))\n",
    "model.add(Dense(16,activation=\"relu\"))\n",
    "model.add(Dense(1,activation=\"sigmoid\"))\n",
    "model.compile(optimizer=\"adam\",loss=\"binary_crossentropy\",metrics=[\"accuracy\"])"
   ]
  },
  {
   "cell_type": "code",
   "execution_count": 24,
   "metadata": {
    "execution": {
     "iopub.execute_input": "2024-05-24T11:54:11.163233Z",
     "iopub.status.busy": "2024-05-24T11:54:11.162348Z",
     "iopub.status.idle": "2024-05-24T11:54:27.944479Z",
     "shell.execute_reply": "2024-05-24T11:54:27.943375Z",
     "shell.execute_reply.started": "2024-05-24T11:54:11.163189Z"
    }
   },
   "outputs": [
    {
     "name": "stdout",
     "output_type": "stream",
     "text": [
      "Epoch 1/10\n",
      "\u001b[1m481/481\u001b[0m \u001b[32m━━━━━━━━━━━━━━━━━━━━\u001b[0m\u001b[37m\u001b[0m \u001b[1m3s\u001b[0m 3ms/step - accuracy: 0.9258 - loss: 0.2362 - val_accuracy: 0.9586 - val_loss: 0.1257\n",
      "Epoch 2/10\n",
      "\u001b[1m481/481\u001b[0m \u001b[32m━━━━━━━━━━━━━━━━━━━━\u001b[0m\u001b[37m\u001b[0m \u001b[1m2s\u001b[0m 3ms/step - accuracy: 0.9552 - loss: 0.1412 - val_accuracy: 0.9605 - val_loss: 0.1203\n",
      "Epoch 3/10\n",
      "\u001b[1m481/481\u001b[0m \u001b[32m━━━━━━━━━━━━━━━━━━━━\u001b[0m\u001b[37m\u001b[0m \u001b[1m2s\u001b[0m 2ms/step - accuracy: 0.9559 - loss: 0.1405 - val_accuracy: 0.9610 - val_loss: 0.1200\n",
      "Epoch 4/10\n",
      "\u001b[1m481/481\u001b[0m \u001b[32m━━━━━━━━━━━━━━━━━━━━\u001b[0m\u001b[37m\u001b[0m \u001b[1m1s\u001b[0m 2ms/step - accuracy: 0.9572 - loss: 0.1358 - val_accuracy: 0.9607 - val_loss: 0.1272\n",
      "Epoch 5/10\n",
      "\u001b[1m481/481\u001b[0m \u001b[32m━━━━━━━━━━━━━━━━━━━━\u001b[0m\u001b[37m\u001b[0m \u001b[1m1s\u001b[0m 2ms/step - accuracy: 0.9563 - loss: 0.1342 - val_accuracy: 0.9625 - val_loss: 0.1159\n",
      "Epoch 6/10\n",
      "\u001b[1m481/481\u001b[0m \u001b[32m━━━━━━━━━━━━━━━━━━━━\u001b[0m\u001b[37m\u001b[0m \u001b[1m1s\u001b[0m 2ms/step - accuracy: 0.9582 - loss: 0.1294 - val_accuracy: 0.9625 - val_loss: 0.1189\n",
      "Epoch 7/10\n",
      "\u001b[1m481/481\u001b[0m \u001b[32m━━━━━━━━━━━━━━━━━━━━\u001b[0m\u001b[37m\u001b[0m \u001b[1m1s\u001b[0m 2ms/step - accuracy: 0.9565 - loss: 0.1355 - val_accuracy: 0.9641 - val_loss: 0.1163\n",
      "Epoch 8/10\n",
      "\u001b[1m481/481\u001b[0m \u001b[32m━━━━━━━━━━━━━━━━━━━━\u001b[0m\u001b[37m\u001b[0m \u001b[1m1s\u001b[0m 2ms/step - accuracy: 0.9614 - loss: 0.1194 - val_accuracy: 0.9638 - val_loss: 0.1169\n",
      "Epoch 9/10\n",
      "\u001b[1m481/481\u001b[0m \u001b[32m━━━━━━━━━━━━━━━━━━━━\u001b[0m\u001b[37m\u001b[0m \u001b[1m1s\u001b[0m 2ms/step - accuracy: 0.9592 - loss: 0.1228 - val_accuracy: 0.9638 - val_loss: 0.1169\n",
      "Epoch 10/10\n",
      "\u001b[1m481/481\u001b[0m \u001b[32m━━━━━━━━━━━━━━━━━━━━\u001b[0m\u001b[37m\u001b[0m \u001b[1m1s\u001b[0m 2ms/step - accuracy: 0.9617 - loss: 0.1185 - val_accuracy: 0.9620 - val_loss: 0.1171\n"
     ]
    }
   ],
   "source": [
    "history=model.fit(x_train,y_train,epochs=10,validation_data=(x_test,y_test))"
   ]
  },
  {
   "cell_type": "code",
   "execution_count": 25,
   "metadata": {
    "execution": {
     "iopub.execute_input": "2024-05-24T11:54:27.946756Z",
     "iopub.status.busy": "2024-05-24T11:54:27.946417Z",
     "iopub.status.idle": "2024-05-24T11:54:28.323374Z",
     "shell.execute_reply": "2024-05-24T11:54:28.322011Z",
     "shell.execute_reply.started": "2024-05-24T11:54:27.946728Z"
    }
   },
   "outputs": [
    {
     "name": "stdout",
     "output_type": "stream",
     "text": [
      "\u001b[1m121/121\u001b[0m \u001b[32m━━━━━━━━━━━━━━━━━━━━\u001b[0m\u001b[37m\u001b[0m \u001b[1m0s\u001b[0m 2ms/step\n"
     ]
    },
    {
     "data": {
      "text/plain": [
       "0.9620187304890739"
      ]
     },
     "execution_count": 25,
     "metadata": {},
     "output_type": "execute_result"
    }
   ],
   "source": [
    "y_pred=model.predict(x_test)\n",
    "accuracy_score(y_test,y_pred.round())"
   ]
  },
  {
   "cell_type": "code",
   "execution_count": 26,
   "metadata": {
    "execution": {
     "iopub.execute_input": "2024-05-24T11:54:28.327522Z",
     "iopub.status.busy": "2024-05-24T11:54:28.327152Z",
     "iopub.status.idle": "2024-05-24T11:54:28.359388Z",
     "shell.execute_reply": "2024-05-24T11:54:28.358088Z",
     "shell.execute_reply.started": "2024-05-24T11:54:28.327493Z"
    }
   },
   "outputs": [],
   "source": [
    "model.save(\"k_scatch.h5\")"
   ]
  },
  {
   "cell_type": "markdown",
   "metadata": {},
   "source": [
    "# Stains"
   ]
  },
  {
   "cell_type": "code",
   "execution_count": 27,
   "metadata": {
    "execution": {
     "iopub.execute_input": "2024-05-24T11:54:28.361103Z",
     "iopub.status.busy": "2024-05-24T11:54:28.360697Z",
     "iopub.status.idle": "2024-05-24T11:54:28.381386Z",
     "shell.execute_reply": "2024-05-24T11:54:28.380286Z",
     "shell.execute_reply.started": "2024-05-24T11:54:28.361072Z"
    }
   },
   "outputs": [],
   "source": [
    "X = train.drop(columns=['Pastry', 'Z_Scratch', 'K_Scatch', 'Stains', 'Dirtiness', 'Bumps', 'Other_Faults','id'])\n",
    "y=train[\"Stains\"]\n",
    "scaler = StandardScaler()\n",
    "X=scaler.fit_transform(X)\n",
    "x_train, x_test, y_train, y_test = train_test_split(X, y, test_size=0.2, random_state=42)"
   ]
  },
  {
   "cell_type": "code",
   "execution_count": 28,
   "metadata": {
    "execution": {
     "iopub.execute_input": "2024-05-24T11:54:28.391259Z",
     "iopub.status.busy": "2024-05-24T11:54:28.390708Z",
     "iopub.status.idle": "2024-05-24T11:54:28.482682Z",
     "shell.execute_reply": "2024-05-24T11:54:28.481492Z",
     "shell.execute_reply.started": "2024-05-24T11:54:28.391228Z"
    }
   },
   "outputs": [
    {
     "name": "stderr",
     "output_type": "stream",
     "text": [
      "/opt/conda/lib/python3.10/site-packages/keras/src/layers/core/dense.py:86: UserWarning: Do not pass an `input_shape`/`input_dim` argument to a layer. When using Sequential models, prefer using an `Input(shape)` object as the first layer in the model instead.\n",
      "  super().__init__(activity_regularizer=activity_regularizer, **kwargs)\n"
     ]
    }
   ],
   "source": [
    "model=Sequential()\n",
    "model.add(Dense(128,activation=\"relu\",input_shape=(x_train.shape[1],)))\n",
    "model.add(Dropout(0.2))\n",
    "model.add(Dense(64,activation=\"relu\"))\n",
    "model.add(Dense(32,activation=\"relu\"))\n",
    "model.add(Dropout(0.2))\n",
    "model.add(Dense(16,activation=\"relu\"))\n",
    "model.add(Dense(1,activation=\"sigmoid\"))\n",
    "model.compile(optimizer=\"adam\",loss=\"binary_crossentropy\",metrics=[\"accuracy\"])"
   ]
  },
  {
   "cell_type": "code",
   "execution_count": 29,
   "metadata": {
    "execution": {
     "iopub.execute_input": "2024-05-24T11:54:28.484586Z",
     "iopub.status.busy": "2024-05-24T11:54:28.484213Z",
     "iopub.status.idle": "2024-05-24T11:54:44.329755Z",
     "shell.execute_reply": "2024-05-24T11:54:44.328674Z",
     "shell.execute_reply.started": "2024-05-24T11:54:28.484555Z"
    }
   },
   "outputs": [
    {
     "name": "stdout",
     "output_type": "stream",
     "text": [
      "Epoch 1/10\n",
      "\u001b[1m481/481\u001b[0m \u001b[32m━━━━━━━━━━━━━━━━━━━━\u001b[0m\u001b[37m\u001b[0m \u001b[1m3s\u001b[0m 3ms/step - accuracy: 0.9690 - loss: 0.1388 - val_accuracy: 0.9802 - val_loss: 0.0450\n",
      "Epoch 2/10\n",
      "\u001b[1m481/481\u001b[0m \u001b[32m━━━━━━━━━━━━━━━━━━━━\u001b[0m\u001b[37m\u001b[0m \u001b[1m1s\u001b[0m 2ms/step - accuracy: 0.9833 - loss: 0.0461 - val_accuracy: 0.9802 - val_loss: 0.0485\n",
      "Epoch 3/10\n",
      "\u001b[1m481/481\u001b[0m \u001b[32m━━━━━━━━━━━━━━━━━━━━\u001b[0m\u001b[37m\u001b[0m \u001b[1m1s\u001b[0m 3ms/step - accuracy: 0.9870 - loss: 0.0422 - val_accuracy: 0.9810 - val_loss: 0.0466\n",
      "Epoch 4/10\n",
      "\u001b[1m481/481\u001b[0m \u001b[32m━━━━━━━━━━━━━━━━━━━━\u001b[0m\u001b[37m\u001b[0m \u001b[1m2s\u001b[0m 2ms/step - accuracy: 0.9858 - loss: 0.0393 - val_accuracy: 0.9810 - val_loss: 0.0436\n",
      "Epoch 5/10\n",
      "\u001b[1m481/481\u001b[0m \u001b[32m━━━━━━━━━━━━━━━━━━━━\u001b[0m\u001b[37m\u001b[0m \u001b[1m1s\u001b[0m 2ms/step - accuracy: 0.9854 - loss: 0.0425 - val_accuracy: 0.9815 - val_loss: 0.0450\n",
      "Epoch 6/10\n",
      "\u001b[1m481/481\u001b[0m \u001b[32m━━━━━━━━━━━━━━━━━━━━\u001b[0m\u001b[37m\u001b[0m \u001b[1m1s\u001b[0m 2ms/step - accuracy: 0.9847 - loss: 0.0420 - val_accuracy: 0.9810 - val_loss: 0.0451\n",
      "Epoch 7/10\n",
      "\u001b[1m481/481\u001b[0m \u001b[32m━━━━━━━━━━━━━━━━━━━━\u001b[0m\u001b[37m\u001b[0m \u001b[1m1s\u001b[0m 3ms/step - accuracy: 0.9857 - loss: 0.0404 - val_accuracy: 0.9820 - val_loss: 0.0459\n",
      "Epoch 8/10\n",
      "\u001b[1m481/481\u001b[0m \u001b[32m━━━━━━━━━━━━━━━━━━━━\u001b[0m\u001b[37m\u001b[0m \u001b[1m1s\u001b[0m 2ms/step - accuracy: 0.9860 - loss: 0.0397 - val_accuracy: 0.9810 - val_loss: 0.0442\n",
      "Epoch 9/10\n",
      "\u001b[1m481/481\u001b[0m \u001b[32m━━━━━━━━━━━━━━━━━━━━\u001b[0m\u001b[37m\u001b[0m \u001b[1m1s\u001b[0m 2ms/step - accuracy: 0.9843 - loss: 0.0398 - val_accuracy: 0.9823 - val_loss: 0.0441\n",
      "Epoch 10/10\n",
      "\u001b[1m481/481\u001b[0m \u001b[32m━━━━━━━━━━━━━━━━━━━━\u001b[0m\u001b[37m\u001b[0m \u001b[1m1s\u001b[0m 2ms/step - accuracy: 0.9857 - loss: 0.0371 - val_accuracy: 0.9815 - val_loss: 0.0444\n"
     ]
    }
   ],
   "source": [
    "history=model.fit(x_train,y_train,epochs=10,validation_data=(x_test,y_test))"
   ]
  },
  {
   "cell_type": "code",
   "execution_count": 30,
   "metadata": {
    "execution": {
     "iopub.execute_input": "2024-05-24T11:54:44.331887Z",
     "iopub.status.busy": "2024-05-24T11:54:44.331502Z",
     "iopub.status.idle": "2024-05-24T11:54:44.702512Z",
     "shell.execute_reply": "2024-05-24T11:54:44.701321Z",
     "shell.execute_reply.started": "2024-05-24T11:54:44.331856Z"
    }
   },
   "outputs": [
    {
     "name": "stdout",
     "output_type": "stream",
     "text": [
      "\u001b[1m121/121\u001b[0m \u001b[32m━━━━━━━━━━━━━━━━━━━━\u001b[0m\u001b[37m\u001b[0m \u001b[1m0s\u001b[0m 2ms/step\n"
     ]
    },
    {
     "data": {
      "text/plain": [
       "0.9815296566077003"
      ]
     },
     "execution_count": 30,
     "metadata": {},
     "output_type": "execute_result"
    }
   ],
   "source": [
    "y_pred=model.predict(x_test)\n",
    "accuracy_score(y_test,y_pred.round())"
   ]
  },
  {
   "cell_type": "code",
   "execution_count": 31,
   "metadata": {
    "execution": {
     "iopub.execute_input": "2024-05-24T11:54:44.704248Z",
     "iopub.status.busy": "2024-05-24T11:54:44.703921Z",
     "iopub.status.idle": "2024-05-24T11:54:44.736160Z",
     "shell.execute_reply": "2024-05-24T11:54:44.734700Z",
     "shell.execute_reply.started": "2024-05-24T11:54:44.704219Z"
    }
   },
   "outputs": [],
   "source": [
    "model.save(\"stains.h5\")"
   ]
  },
  {
   "cell_type": "markdown",
   "metadata": {},
   "source": [
    "# Dirtiness"
   ]
  },
  {
   "cell_type": "code",
   "execution_count": 32,
   "metadata": {
    "execution": {
     "iopub.execute_input": "2024-05-24T11:54:44.738294Z",
     "iopub.status.busy": "2024-05-24T11:54:44.737840Z",
     "iopub.status.idle": "2024-05-24T11:54:44.758266Z",
     "shell.execute_reply": "2024-05-24T11:54:44.756710Z",
     "shell.execute_reply.started": "2024-05-24T11:54:44.738247Z"
    }
   },
   "outputs": [],
   "source": [
    "X = train.drop(columns=['Pastry', 'Z_Scratch', 'K_Scatch', 'Stains', 'Dirtiness', 'Bumps', 'Other_Faults','id'])\n",
    "y=train[\"Dirtiness\"]\n",
    "scaler = StandardScaler()\n",
    "X=scaler.fit_transform(X)\n",
    "x_train, x_test, y_train, y_test = train_test_split(X, y, test_size=0.2, random_state=42)"
   ]
  },
  {
   "cell_type": "code",
   "execution_count": 33,
   "metadata": {
    "execution": {
     "iopub.execute_input": "2024-05-24T11:54:44.760822Z",
     "iopub.status.busy": "2024-05-24T11:54:44.760050Z",
     "iopub.status.idle": "2024-05-24T11:54:44.852173Z",
     "shell.execute_reply": "2024-05-24T11:54:44.849841Z",
     "shell.execute_reply.started": "2024-05-24T11:54:44.760748Z"
    }
   },
   "outputs": [
    {
     "name": "stderr",
     "output_type": "stream",
     "text": [
      "/opt/conda/lib/python3.10/site-packages/keras/src/layers/core/dense.py:86: UserWarning: Do not pass an `input_shape`/`input_dim` argument to a layer. When using Sequential models, prefer using an `Input(shape)` object as the first layer in the model instead.\n",
      "  super().__init__(activity_regularizer=activity_regularizer, **kwargs)\n"
     ]
    }
   ],
   "source": [
    "model=Sequential()\n",
    "model.add(Dense(128,activation=\"relu\",input_shape=(x_train.shape[1],)))\n",
    "model.add(Dropout(0.2))\n",
    "model.add(Dense(64,activation=\"relu\"))\n",
    "model.add(Dense(32,activation=\"relu\"))\n",
    "model.add(Dropout(0.2))\n",
    "model.add(Dense(16,activation=\"relu\"))\n",
    "model.add(Dense(1,activation=\"sigmoid\"))\n",
    "model.compile(optimizer=\"adam\",loss=\"binary_crossentropy\",metrics=[\"accuracy\"])"
   ]
  },
  {
   "cell_type": "code",
   "execution_count": 34,
   "metadata": {
    "execution": {
     "iopub.execute_input": "2024-05-24T11:54:44.854043Z",
     "iopub.status.busy": "2024-05-24T11:54:44.853596Z",
     "iopub.status.idle": "2024-05-24T11:54:58.839348Z",
     "shell.execute_reply": "2024-05-24T11:54:58.838158Z",
     "shell.execute_reply.started": "2024-05-24T11:54:44.853998Z"
    }
   },
   "outputs": [
    {
     "name": "stdout",
     "output_type": "stream",
     "text": [
      "Epoch 1/10\n",
      "\u001b[1m481/481\u001b[0m \u001b[32m━━━━━━━━━━━━━━━━━━━━\u001b[0m\u001b[37m\u001b[0m \u001b[1m3s\u001b[0m 3ms/step - accuracy: 0.9695 - loss: 0.1621 - val_accuracy: 0.9779 - val_loss: 0.0866\n",
      "Epoch 2/10\n",
      "\u001b[1m481/481\u001b[0m \u001b[32m━━━━━━━━━━━━━━━━━━━━\u001b[0m\u001b[37m\u001b[0m \u001b[1m1s\u001b[0m 2ms/step - accuracy: 0.9727 - loss: 0.1063 - val_accuracy: 0.9779 - val_loss: 0.0829\n",
      "Epoch 3/10\n",
      "\u001b[1m481/481\u001b[0m \u001b[32m━━━━━━━━━━━━━━━━━━━━\u001b[0m\u001b[37m\u001b[0m \u001b[1m1s\u001b[0m 2ms/step - accuracy: 0.9747 - loss: 0.0960 - val_accuracy: 0.9779 - val_loss: 0.0842\n",
      "Epoch 4/10\n",
      "\u001b[1m481/481\u001b[0m \u001b[32m━━━━━━━━━━━━━━━━━━━━\u001b[0m\u001b[37m\u001b[0m \u001b[1m1s\u001b[0m 2ms/step - accuracy: 0.9732 - loss: 0.1005 - val_accuracy: 0.9779 - val_loss: 0.0824\n",
      "Epoch 5/10\n",
      "\u001b[1m481/481\u001b[0m \u001b[32m━━━━━━━━━━━━━━━━━━━━\u001b[0m\u001b[37m\u001b[0m \u001b[1m1s\u001b[0m 2ms/step - accuracy: 0.9779 - loss: 0.0858 - val_accuracy: 0.9781 - val_loss: 0.0848\n",
      "Epoch 6/10\n",
      "\u001b[1m481/481\u001b[0m \u001b[32m━━━━━━━━━━━━━━━━━━━━\u001b[0m\u001b[37m\u001b[0m \u001b[1m1s\u001b[0m 2ms/step - accuracy: 0.9756 - loss: 0.0900 - val_accuracy: 0.9781 - val_loss: 0.0864\n",
      "Epoch 7/10\n",
      "\u001b[1m481/481\u001b[0m \u001b[32m━━━━━━━━━━━━━━━━━━━━\u001b[0m\u001b[37m\u001b[0m \u001b[1m1s\u001b[0m 2ms/step - accuracy: 0.9737 - loss: 0.0927 - val_accuracy: 0.9779 - val_loss: 0.0815\n",
      "Epoch 8/10\n",
      "\u001b[1m481/481\u001b[0m \u001b[32m━━━━━━━━━━━━━━━━━━━━\u001b[0m\u001b[37m\u001b[0m \u001b[1m1s\u001b[0m 2ms/step - accuracy: 0.9714 - loss: 0.1019 - val_accuracy: 0.9779 - val_loss: 0.0820\n",
      "Epoch 9/10\n",
      "\u001b[1m481/481\u001b[0m \u001b[32m━━━━━━━━━━━━━━━━━━━━\u001b[0m\u001b[37m\u001b[0m \u001b[1m1s\u001b[0m 2ms/step - accuracy: 0.9730 - loss: 0.0940 - val_accuracy: 0.9779 - val_loss: 0.0818\n",
      "Epoch 10/10\n",
      "\u001b[1m481/481\u001b[0m \u001b[32m━━━━━━━━━━━━━━━━━━━━\u001b[0m\u001b[37m\u001b[0m \u001b[1m1s\u001b[0m 2ms/step - accuracy: 0.9731 - loss: 0.0931 - val_accuracy: 0.9766 - val_loss: 0.0828\n"
     ]
    }
   ],
   "source": [
    "history=model.fit(x_train,y_train,epochs=10,validation_data=(x_test,y_test))"
   ]
  },
  {
   "cell_type": "code",
   "execution_count": 35,
   "metadata": {
    "execution": {
     "iopub.execute_input": "2024-05-24T11:54:58.841644Z",
     "iopub.status.busy": "2024-05-24T11:54:58.841257Z",
     "iopub.status.idle": "2024-05-24T11:54:59.219681Z",
     "shell.execute_reply": "2024-05-24T11:54:59.218465Z",
     "shell.execute_reply.started": "2024-05-24T11:54:58.841612Z"
    }
   },
   "outputs": [
    {
     "name": "stdout",
     "output_type": "stream",
     "text": [
      "\u001b[1m121/121\u001b[0m \u001b[32m━━━━━━━━━━━━━━━━━━━━\u001b[0m\u001b[37m\u001b[0m \u001b[1m0s\u001b[0m 2ms/step\n"
     ]
    },
    {
     "data": {
      "text/plain": [
       "0.9765868886576483"
      ]
     },
     "execution_count": 35,
     "metadata": {},
     "output_type": "execute_result"
    }
   ],
   "source": [
    "y_pred=model.predict(x_test)\n",
    "accuracy_score(y_test,y_pred.round())"
   ]
  },
  {
   "cell_type": "code",
   "execution_count": 36,
   "metadata": {
    "execution": {
     "iopub.execute_input": "2024-05-24T11:54:59.221577Z",
     "iopub.status.busy": "2024-05-24T11:54:59.221215Z",
     "iopub.status.idle": "2024-05-24T11:54:59.253937Z",
     "shell.execute_reply": "2024-05-24T11:54:59.252397Z",
     "shell.execute_reply.started": "2024-05-24T11:54:59.221548Z"
    }
   },
   "outputs": [],
   "source": [
    "model.save(\"dirtiness.h5\")"
   ]
  },
  {
   "cell_type": "markdown",
   "metadata": {},
   "source": [
    "# Bumps"
   ]
  },
  {
   "cell_type": "code",
   "execution_count": 37,
   "metadata": {
    "execution": {
     "iopub.execute_input": "2024-05-24T11:54:59.256591Z",
     "iopub.status.busy": "2024-05-24T11:54:59.256181Z",
     "iopub.status.idle": "2024-05-24T11:54:59.276419Z",
     "shell.execute_reply": "2024-05-24T11:54:59.275188Z",
     "shell.execute_reply.started": "2024-05-24T11:54:59.256544Z"
    }
   },
   "outputs": [],
   "source": [
    "X = train.drop(columns=['Pastry', 'Z_Scratch', 'K_Scatch', 'Stains', 'Dirtiness', 'Bumps', 'Other_Faults','id'])\n",
    "y=train[\"Bumps\"]\n",
    "scaler = StandardScaler()\n",
    "X=scaler.fit_transform(X)\n",
    "x_train, x_test, y_train, y_test = train_test_split(X, y, test_size=0.2, random_state=42)"
   ]
  },
  {
   "cell_type": "code",
   "execution_count": 38,
   "metadata": {
    "execution": {
     "iopub.execute_input": "2024-05-24T11:54:59.278830Z",
     "iopub.status.busy": "2024-05-24T11:54:59.278306Z",
     "iopub.status.idle": "2024-05-24T11:54:59.366741Z",
     "shell.execute_reply": "2024-05-24T11:54:59.365520Z",
     "shell.execute_reply.started": "2024-05-24T11:54:59.278750Z"
    }
   },
   "outputs": [
    {
     "name": "stderr",
     "output_type": "stream",
     "text": [
      "/opt/conda/lib/python3.10/site-packages/keras/src/layers/core/dense.py:86: UserWarning: Do not pass an `input_shape`/`input_dim` argument to a layer. When using Sequential models, prefer using an `Input(shape)` object as the first layer in the model instead.\n",
      "  super().__init__(activity_regularizer=activity_regularizer, **kwargs)\n"
     ]
    }
   ],
   "source": [
    "model=Sequential()\n",
    "model.add(Dense(128,activation=\"relu\",input_shape=(x_train.shape[1],)))\n",
    "model.add(Dropout(0.2))\n",
    "model.add(Dense(64,activation=\"relu\"))\n",
    "model.add(Dense(32,activation=\"relu\"))\n",
    "model.add(Dropout(0.2))\n",
    "model.add(Dense(16,activation=\"relu\"))\n",
    "model.add(Dense(1,activation=\"sigmoid\"))\n",
    "model.compile(optimizer=\"adam\",loss=\"binary_crossentropy\",metrics=[\"accuracy\"])"
   ]
  },
  {
   "cell_type": "code",
   "execution_count": 39,
   "metadata": {
    "execution": {
     "iopub.execute_input": "2024-05-24T11:54:59.368823Z",
     "iopub.status.busy": "2024-05-24T11:54:59.368355Z",
     "iopub.status.idle": "2024-05-24T11:55:15.062695Z",
     "shell.execute_reply": "2024-05-24T11:55:15.061580Z",
     "shell.execute_reply.started": "2024-05-24T11:54:59.368754Z"
    }
   },
   "outputs": [
    {
     "name": "stdout",
     "output_type": "stream",
     "text": [
      "Epoch 1/10\n",
      "\u001b[1m481/481\u001b[0m \u001b[32m━━━━━━━━━━━━━━━━━━━━\u001b[0m\u001b[37m\u001b[0m \u001b[1m3s\u001b[0m 3ms/step - accuracy: 0.7487 - loss: 0.5044 - val_accuracy: 0.7719 - val_loss: 0.4627\n",
      "Epoch 2/10\n",
      "\u001b[1m481/481\u001b[0m \u001b[32m━━━━━━━━━━━━━━━━━━━━\u001b[0m\u001b[37m\u001b[0m \u001b[1m1s\u001b[0m 2ms/step - accuracy: 0.7549 - loss: 0.4750 - val_accuracy: 0.7680 - val_loss: 0.4585\n",
      "Epoch 3/10\n",
      "\u001b[1m481/481\u001b[0m \u001b[32m━━━━━━━━━━━━━━━━━━━━\u001b[0m\u001b[37m\u001b[0m \u001b[1m1s\u001b[0m 2ms/step - accuracy: 0.7589 - loss: 0.4716 - val_accuracy: 0.7685 - val_loss: 0.4575\n",
      "Epoch 4/10\n",
      "\u001b[1m481/481\u001b[0m \u001b[32m━━━━━━━━━━━━━━━━━━━━\u001b[0m\u001b[37m\u001b[0m \u001b[1m1s\u001b[0m 3ms/step - accuracy: 0.7672 - loss: 0.4550 - val_accuracy: 0.7666 - val_loss: 0.4595\n",
      "Epoch 5/10\n",
      "\u001b[1m481/481\u001b[0m \u001b[32m━━━━━━━━━━━━━━━━━━━━\u001b[0m\u001b[37m\u001b[0m \u001b[1m1s\u001b[0m 2ms/step - accuracy: 0.7664 - loss: 0.4612 - val_accuracy: 0.7747 - val_loss: 0.4565\n",
      "Epoch 6/10\n",
      "\u001b[1m481/481\u001b[0m \u001b[32m━━━━━━━━━━━━━━━━━━━━\u001b[0m\u001b[37m\u001b[0m \u001b[1m1s\u001b[0m 2ms/step - accuracy: 0.7698 - loss: 0.4554 - val_accuracy: 0.7659 - val_loss: 0.4584\n",
      "Epoch 7/10\n",
      "\u001b[1m481/481\u001b[0m \u001b[32m━━━━━━━━━━━━━━━━━━━━\u001b[0m\u001b[37m\u001b[0m \u001b[1m1s\u001b[0m 2ms/step - accuracy: 0.7662 - loss: 0.4571 - val_accuracy: 0.7653 - val_loss: 0.4546\n",
      "Epoch 8/10\n",
      "\u001b[1m481/481\u001b[0m \u001b[32m━━━━━━━━━━━━━━━━━━━━\u001b[0m\u001b[37m\u001b[0m \u001b[1m1s\u001b[0m 2ms/step - accuracy: 0.7626 - loss: 0.4564 - val_accuracy: 0.7685 - val_loss: 0.4534\n",
      "Epoch 9/10\n",
      "\u001b[1m481/481\u001b[0m \u001b[32m━━━━━━━━━━━━━━━━━━━━\u001b[0m\u001b[37m\u001b[0m \u001b[1m1s\u001b[0m 2ms/step - accuracy: 0.7691 - loss: 0.4519 - val_accuracy: 0.7591 - val_loss: 0.4583\n",
      "Epoch 10/10\n",
      "\u001b[1m481/481\u001b[0m \u001b[32m━━━━━━━━━━━━━━━━━━━━\u001b[0m\u001b[37m\u001b[0m \u001b[1m1s\u001b[0m 3ms/step - accuracy: 0.7622 - loss: 0.4599 - val_accuracy: 0.7661 - val_loss: 0.4540\n"
     ]
    }
   ],
   "source": [
    "history=model.fit(x_train,y_train,epochs=10,validation_data=(x_test,y_test))"
   ]
  },
  {
   "cell_type": "code",
   "execution_count": 40,
   "metadata": {
    "execution": {
     "iopub.execute_input": "2024-05-24T11:55:15.066069Z",
     "iopub.status.busy": "2024-05-24T11:55:15.065260Z",
     "iopub.status.idle": "2024-05-24T11:55:15.444152Z",
     "shell.execute_reply": "2024-05-24T11:55:15.442920Z",
     "shell.execute_reply.started": "2024-05-24T11:55:15.066025Z"
    }
   },
   "outputs": [
    {
     "name": "stdout",
     "output_type": "stream",
     "text": [
      "\u001b[1m121/121\u001b[0m \u001b[32m━━━━━━━━━━━━━━━━━━━━\u001b[0m\u001b[37m\u001b[0m \u001b[1m0s\u001b[0m 2ms/step\n"
     ]
    },
    {
     "data": {
      "text/plain": [
       "0.7661290322580645"
      ]
     },
     "execution_count": 40,
     "metadata": {},
     "output_type": "execute_result"
    }
   ],
   "source": [
    "y_pred=model.predict(x_test)\n",
    "accuracy_score(y_test,y_pred.round())"
   ]
  },
  {
   "cell_type": "code",
   "execution_count": 41,
   "metadata": {
    "execution": {
     "iopub.execute_input": "2024-05-24T11:55:15.446609Z",
     "iopub.status.busy": "2024-05-24T11:55:15.445590Z",
     "iopub.status.idle": "2024-05-24T11:55:15.475703Z",
     "shell.execute_reply": "2024-05-24T11:55:15.474264Z",
     "shell.execute_reply.started": "2024-05-24T11:55:15.446565Z"
    }
   },
   "outputs": [],
   "source": [
    "model.save(\"bumps.h5\")"
   ]
  },
  {
   "cell_type": "markdown",
   "metadata": {},
   "source": [
    "# Other Faults"
   ]
  },
  {
   "cell_type": "code",
   "execution_count": 42,
   "metadata": {
    "execution": {
     "iopub.execute_input": "2024-05-24T11:55:15.477924Z",
     "iopub.status.busy": "2024-05-24T11:55:15.477382Z",
     "iopub.status.idle": "2024-05-24T11:55:15.500053Z",
     "shell.execute_reply": "2024-05-24T11:55:15.498573Z",
     "shell.execute_reply.started": "2024-05-24T11:55:15.477877Z"
    }
   },
   "outputs": [],
   "source": [
    "X = train.drop(columns=['Pastry', 'Z_Scratch', 'K_Scatch', 'Stains', 'Dirtiness', 'Bumps', 'Other_Faults','id'])\n",
    "y=train[\"Other_Faults\"]\n",
    "scaler = StandardScaler()\n",
    "X=scaler.fit_transform(X)\n",
    "x_train, x_test, y_train, y_test = train_test_split(X, y, test_size=0.2, random_state=42)"
   ]
  },
  {
   "cell_type": "code",
   "execution_count": 43,
   "metadata": {
    "execution": {
     "iopub.execute_input": "2024-05-24T11:55:15.502030Z",
     "iopub.status.busy": "2024-05-24T11:55:15.501623Z",
     "iopub.status.idle": "2024-05-24T11:55:15.593531Z",
     "shell.execute_reply": "2024-05-24T11:55:15.591972Z",
     "shell.execute_reply.started": "2024-05-24T11:55:15.501998Z"
    }
   },
   "outputs": [
    {
     "name": "stderr",
     "output_type": "stream",
     "text": [
      "/opt/conda/lib/python3.10/site-packages/keras/src/layers/core/dense.py:86: UserWarning: Do not pass an `input_shape`/`input_dim` argument to a layer. When using Sequential models, prefer using an `Input(shape)` object as the first layer in the model instead.\n",
      "  super().__init__(activity_regularizer=activity_regularizer, **kwargs)\n"
     ]
    }
   ],
   "source": [
    "model=Sequential()\n",
    "model.add(Dense(128,activation=\"relu\",input_shape=(x_train.shape[1],)))\n",
    "model.add(Dropout(0.2))\n",
    "model.add(Dense(64,activation=\"relu\"))\n",
    "model.add(Dense(32,activation=\"relu\"))\n",
    "model.add(Dropout(0.2))\n",
    "model.add(Dense(16,activation=\"relu\"))\n",
    "model.add(Dense(1,activation=\"sigmoid\"))\n",
    "model.compile(optimizer=\"adam\",loss=\"binary_crossentropy\",metrics=[\"accuracy\"])"
   ]
  },
  {
   "cell_type": "code",
   "execution_count": 44,
   "metadata": {
    "execution": {
     "iopub.execute_input": "2024-05-24T11:55:15.595360Z",
     "iopub.status.busy": "2024-05-24T11:55:15.594982Z",
     "iopub.status.idle": "2024-05-24T11:55:30.757808Z",
     "shell.execute_reply": "2024-05-24T11:55:30.756728Z",
     "shell.execute_reply.started": "2024-05-24T11:55:15.595326Z"
    }
   },
   "outputs": [
    {
     "name": "stdout",
     "output_type": "stream",
     "text": [
      "Epoch 1/10\n",
      "\u001b[1m481/481\u001b[0m \u001b[32m━━━━━━━━━━━━━━━━━━━━\u001b[0m\u001b[37m\u001b[0m \u001b[1m3s\u001b[0m 3ms/step - accuracy: 0.6631 - loss: 0.6156 - val_accuracy: 0.6649 - val_loss: 0.5951\n",
      "Epoch 2/10\n",
      "\u001b[1m481/481\u001b[0m \u001b[32m━━━━━━━━━━━━━━━━━━━━\u001b[0m\u001b[37m\u001b[0m \u001b[1m2s\u001b[0m 2ms/step - accuracy: 0.6703 - loss: 0.5944 - val_accuracy: 0.6644 - val_loss: 0.5949\n",
      "Epoch 3/10\n",
      "\u001b[1m481/481\u001b[0m \u001b[32m━━━━━━━━━━━━━━━━━━━━\u001b[0m\u001b[37m\u001b[0m \u001b[1m1s\u001b[0m 2ms/step - accuracy: 0.6738 - loss: 0.5942 - val_accuracy: 0.6636 - val_loss: 0.5946\n",
      "Epoch 4/10\n",
      "\u001b[1m481/481\u001b[0m \u001b[32m━━━━━━━━━━━━━━━━━━━━\u001b[0m\u001b[37m\u001b[0m \u001b[1m1s\u001b[0m 2ms/step - accuracy: 0.6758 - loss: 0.5930 - val_accuracy: 0.6644 - val_loss: 0.5947\n",
      "Epoch 5/10\n",
      "\u001b[1m481/481\u001b[0m \u001b[32m━━━━━━━━━━━━━━━━━━━━\u001b[0m\u001b[37m\u001b[0m \u001b[1m1s\u001b[0m 2ms/step - accuracy: 0.6858 - loss: 0.5818 - val_accuracy: 0.6655 - val_loss: 0.5958\n",
      "Epoch 6/10\n",
      "\u001b[1m481/481\u001b[0m \u001b[32m━━━━━━━━━━━━━━━━━━━━\u001b[0m\u001b[37m\u001b[0m \u001b[1m1s\u001b[0m 2ms/step - accuracy: 0.6804 - loss: 0.5832 - val_accuracy: 0.6678 - val_loss: 0.5923\n",
      "Epoch 7/10\n",
      "\u001b[1m481/481\u001b[0m \u001b[32m━━━━━━━━━━━━━━━━━━━━\u001b[0m\u001b[37m\u001b[0m \u001b[1m1s\u001b[0m 2ms/step - accuracy: 0.6879 - loss: 0.5820 - val_accuracy: 0.6662 - val_loss: 0.5935\n",
      "Epoch 8/10\n",
      "\u001b[1m481/481\u001b[0m \u001b[32m━━━━━━━━━━━━━━━━━━━━\u001b[0m\u001b[37m\u001b[0m \u001b[1m1s\u001b[0m 2ms/step - accuracy: 0.6805 - loss: 0.5833 - val_accuracy: 0.6673 - val_loss: 0.5919\n",
      "Epoch 9/10\n",
      "\u001b[1m481/481\u001b[0m \u001b[32m━━━━━━━━━━━━━━━━━━━━\u001b[0m\u001b[37m\u001b[0m \u001b[1m1s\u001b[0m 2ms/step - accuracy: 0.6818 - loss: 0.5855 - val_accuracy: 0.6665 - val_loss: 0.5919\n"
     ]
    }
   ],
   "source": [
    "history=model.fit(x_train,y_train,epochs=10,validation_data=(x_test,y_test))"
   ]
  },
  {
   "cell_type": "code",
   "execution_count": 45,
   "metadata": {
    "execution": {
     "iopub.execute_input": "2024-05-24T11:55:30.760734Z",
     "iopub.status.busy": "2024-05-24T11:55:30.760096Z",
     "iopub.status.idle": "2024-05-24T11:55:31.133580Z",
     "shell.execute_reply": "2024-05-24T11:55:31.132309Z",
     "shell.execute_reply.started": "2024-05-24T11:55:30.760679Z"
    }
   },
   "outputs": [
    {
     "name": "stdout",
     "output_type": "stream",
     "text": [
      "\u001b[1m121/121\u001b[0m \u001b[32m━━━━━━━━━━━━━━━━━━━━\u001b[0m\u001b[37m\u001b[0m \u001b[1m0s\u001b[0m 2ms/step\n"
     ]
    },
    {
     "data": {
      "text/plain": [
       "0.6664932362122789"
      ]
     },
     "execution_count": 45,
     "metadata": {},
     "output_type": "execute_result"
    }
   ],
   "source": [
    "y_pred=model.predict(x_test)\n",
    "accuracy_score(y_test,y_pred.round())"
   ]
  },
  {
   "cell_type": "code",
   "execution_count": 46,
   "metadata": {
    "execution": {
     "iopub.execute_input": "2024-05-24T11:55:31.135489Z",
     "iopub.status.busy": "2024-05-24T11:55:31.135113Z",
     "iopub.status.idle": "2024-05-24T11:55:31.166749Z",
     "shell.execute_reply": "2024-05-24T11:55:31.165670Z",
     "shell.execute_reply.started": "2024-05-24T11:55:31.135457Z"
    }
   },
   "outputs": [],
   "source": [
    "model.save(\"other_faults.h5\")"
   ]
  },
  {
   "cell_type": "code",
   "execution_count": 47,
   "metadata": {
    "execution": {
     "iopub.execute_input": "2024-05-24T11:55:31.169418Z",
     "iopub.status.busy": "2024-05-24T11:55:31.168411Z",
     "iopub.status.idle": "2024-05-24T11:55:31.184486Z",
     "shell.execute_reply": "2024-05-24T11:55:31.183179Z",
     "shell.execute_reply.started": "2024-05-24T11:55:31.169383Z"
    }
   },
   "outputs": [],
   "source": [
    "ids=test[\"id\"]\n",
    "test.drop(columns=[\"id\"],inplace=True)\n",
    "scaler = StandardScaler()\n",
    "X=scaler.fit_transform(test)\n",
    "test=pd.DataFrame(X)"
   ]
  },
  {
   "cell_type": "code",
   "execution_count": 51,
   "metadata": {
    "execution": {
     "iopub.execute_input": "2024-05-24T12:08:25.995312Z",
     "iopub.status.busy": "2024-05-24T12:08:25.994887Z",
     "iopub.status.idle": "2024-05-24T12:08:32.425227Z",
     "shell.execute_reply": "2024-05-24T12:08:32.423884Z",
     "shell.execute_reply.started": "2024-05-24T12:08:25.995281Z"
    }
   },
   "outputs": [
    {
     "name": "stdout",
     "output_type": "stream",
     "text": [
      "\u001b[1m401/401\u001b[0m \u001b[32m━━━━━━━━━━━━━━━━━━━━\u001b[0m\u001b[37m\u001b[0m \u001b[1m1s\u001b[0m 1ms/step\n",
      "\u001b[1m401/401\u001b[0m \u001b[32m━━━━━━━━━━━━━━━━━━━━\u001b[0m\u001b[37m\u001b[0m \u001b[1m1s\u001b[0m 1ms/step\n",
      "\u001b[1m401/401\u001b[0m \u001b[32m━━━━━━━━━━━━━━━━━━━━\u001b[0m\u001b[37m\u001b[0m \u001b[1m1s\u001b[0m 1ms/step\n",
      "\u001b[1m401/401\u001b[0m \u001b[32m━━━━━━━━━━━━━━━━━━━━\u001b[0m\u001b[37m\u001b[0m \u001b[1m1s\u001b[0m 1ms/step\n",
      "\u001b[1m401/401\u001b[0m \u001b[32m━━━━━━━━━━━━━━━━━━━━\u001b[0m\u001b[37m\u001b[0m \u001b[1m1s\u001b[0m 1ms/step\n",
      "\u001b[1m401/401\u001b[0m \u001b[32m━━━━━━━━━━━━━━━━━━━━\u001b[0m\u001b[37m\u001b[0m \u001b[1m1s\u001b[0m 1ms/step\n",
      "\u001b[1m401/401\u001b[0m \u001b[32m━━━━━━━━━━━━━━━━━━━━\u001b[0m\u001b[37m\u001b[0m \u001b[1m1s\u001b[0m 1ms/step\n"
     ]
    }
   ],
   "source": [
    "from tensorflow.keras.models import load_model\n",
    "model_paths=[\"pastry.h5\",\"z_scratch.h5\",\"k_scatch.h5\",\"stains.h5\",\"dirtiness.h5\",\"bumps.h5\",\"other_faults.h5\"]\n",
    "df=pd.DataFrame()\n",
    "\n",
    "for path in model_paths:\n",
    "    model=load_model(path)\n",
    "    y_pred=model.predict(test)\n",
    "    y_pred=y_pred.flatten()\n",
    "    df[path]=y_pred\n",
    "df[\"id\"]=ids "
   ]
  },
  {
   "cell_type": "code",
   "execution_count": 52,
   "metadata": {
    "execution": {
     "iopub.execute_input": "2024-05-24T12:08:34.374569Z",
     "iopub.status.busy": "2024-05-24T12:08:34.373409Z",
     "iopub.status.idle": "2024-05-24T12:08:34.392555Z",
     "shell.execute_reply": "2024-05-24T12:08:34.391142Z",
     "shell.execute_reply.started": "2024-05-24T12:08:34.374513Z"
    }
   },
   "outputs": [
    {
     "data": {
      "text/html": [
       "<div>\n",
       "<style scoped>\n",
       "    .dataframe tbody tr th:only-of-type {\n",
       "        vertical-align: middle;\n",
       "    }\n",
       "\n",
       "    .dataframe tbody tr th {\n",
       "        vertical-align: top;\n",
       "    }\n",
       "\n",
       "    .dataframe thead th {\n",
       "        text-align: right;\n",
       "    }\n",
       "</style>\n",
       "<table border=\"1\" class=\"dataframe\">\n",
       "  <thead>\n",
       "    <tr style=\"text-align: right;\">\n",
       "      <th></th>\n",
       "      <th>pastry.h5</th>\n",
       "      <th>z_scratch.h5</th>\n",
       "      <th>k_scatch.h5</th>\n",
       "      <th>stains.h5</th>\n",
       "      <th>dirtiness.h5</th>\n",
       "      <th>bumps.h5</th>\n",
       "      <th>other_faults.h5</th>\n",
       "      <th>id</th>\n",
       "    </tr>\n",
       "  </thead>\n",
       "  <tbody>\n",
       "    <tr>\n",
       "      <th>0</th>\n",
       "      <td>0.343620</td>\n",
       "      <td>0.000004</td>\n",
       "      <td>0.011487</td>\n",
       "      <td>1.573974e-11</td>\n",
       "      <td>0.018955</td>\n",
       "      <td>0.192946</td>\n",
       "      <td>0.471887</td>\n",
       "      <td>19219</td>\n",
       "    </tr>\n",
       "    <tr>\n",
       "      <th>1</th>\n",
       "      <td>0.206978</td>\n",
       "      <td>0.012543</td>\n",
       "      <td>0.019573</td>\n",
       "      <td>2.298840e-08</td>\n",
       "      <td>0.077382</td>\n",
       "      <td>0.182735</td>\n",
       "      <td>0.418967</td>\n",
       "      <td>19220</td>\n",
       "    </tr>\n",
       "    <tr>\n",
       "      <th>2</th>\n",
       "      <td>0.016399</td>\n",
       "      <td>0.057544</td>\n",
       "      <td>0.130667</td>\n",
       "      <td>1.173492e-05</td>\n",
       "      <td>0.010478</td>\n",
       "      <td>0.299034</td>\n",
       "      <td>0.453400</td>\n",
       "      <td>19221</td>\n",
       "    </tr>\n",
       "    <tr>\n",
       "      <th>3</th>\n",
       "      <td>0.216903</td>\n",
       "      <td>0.000037</td>\n",
       "      <td>0.000068</td>\n",
       "      <td>2.246642e-03</td>\n",
       "      <td>0.008015</td>\n",
       "      <td>0.269647</td>\n",
       "      <td>0.399083</td>\n",
       "      <td>19222</td>\n",
       "    </tr>\n",
       "    <tr>\n",
       "      <th>4</th>\n",
       "      <td>0.005497</td>\n",
       "      <td>0.001310</td>\n",
       "      <td>0.000501</td>\n",
       "      <td>8.460208e-05</td>\n",
       "      <td>0.007703</td>\n",
       "      <td>0.606711</td>\n",
       "      <td>0.375831</td>\n",
       "      <td>19223</td>\n",
       "    </tr>\n",
       "  </tbody>\n",
       "</table>\n",
       "</div>"
      ],
      "text/plain": [
       "   pastry.h5  z_scratch.h5  k_scatch.h5     stains.h5  dirtiness.h5  bumps.h5  \\\n",
       "0   0.343620      0.000004     0.011487  1.573974e-11      0.018955  0.192946   \n",
       "1   0.206978      0.012543     0.019573  2.298840e-08      0.077382  0.182735   \n",
       "2   0.016399      0.057544     0.130667  1.173492e-05      0.010478  0.299034   \n",
       "3   0.216903      0.000037     0.000068  2.246642e-03      0.008015  0.269647   \n",
       "4   0.005497      0.001310     0.000501  8.460208e-05      0.007703  0.606711   \n",
       "\n",
       "   other_faults.h5     id  \n",
       "0         0.471887  19219  \n",
       "1         0.418967  19220  \n",
       "2         0.453400  19221  \n",
       "3         0.399083  19222  \n",
       "4         0.375831  19223  "
      ]
     },
     "execution_count": 52,
     "metadata": {},
     "output_type": "execute_result"
    }
   ],
   "source": [
    "df.head()"
   ]
  },
  {
   "cell_type": "code",
   "execution_count": 53,
   "metadata": {
    "execution": {
     "iopub.execute_input": "2024-05-24T12:08:49.488419Z",
     "iopub.status.busy": "2024-05-24T12:08:49.487956Z",
     "iopub.status.idle": "2024-05-24T12:08:49.508891Z",
     "shell.execute_reply": "2024-05-24T12:08:49.507484Z",
     "shell.execute_reply.started": "2024-05-24T12:08:49.488376Z"
    }
   },
   "outputs": [
    {
     "data": {
      "text/html": [
       "<div>\n",
       "<style scoped>\n",
       "    .dataframe tbody tr th:only-of-type {\n",
       "        vertical-align: middle;\n",
       "    }\n",
       "\n",
       "    .dataframe tbody tr th {\n",
       "        vertical-align: top;\n",
       "    }\n",
       "\n",
       "    .dataframe thead th {\n",
       "        text-align: right;\n",
       "    }\n",
       "</style>\n",
       "<table border=\"1\" class=\"dataframe\">\n",
       "  <thead>\n",
       "    <tr style=\"text-align: right;\">\n",
       "      <th></th>\n",
       "      <th>id</th>\n",
       "      <th>Pastry</th>\n",
       "      <th>Z_Scratch</th>\n",
       "      <th>K_Scatch</th>\n",
       "      <th>Stains</th>\n",
       "      <th>Dirtiness</th>\n",
       "      <th>Bumps</th>\n",
       "      <th>Other_Faults</th>\n",
       "    </tr>\n",
       "  </thead>\n",
       "  <tbody>\n",
       "    <tr>\n",
       "      <th>0</th>\n",
       "      <td>19219</td>\n",
       "      <td>0.5</td>\n",
       "      <td>0.5</td>\n",
       "      <td>0.5</td>\n",
       "      <td>0.5</td>\n",
       "      <td>0.5</td>\n",
       "      <td>0.5</td>\n",
       "      <td>0.5</td>\n",
       "    </tr>\n",
       "    <tr>\n",
       "      <th>1</th>\n",
       "      <td>19220</td>\n",
       "      <td>0.5</td>\n",
       "      <td>0.5</td>\n",
       "      <td>0.5</td>\n",
       "      <td>0.5</td>\n",
       "      <td>0.5</td>\n",
       "      <td>0.5</td>\n",
       "      <td>0.5</td>\n",
       "    </tr>\n",
       "    <tr>\n",
       "      <th>2</th>\n",
       "      <td>19221</td>\n",
       "      <td>0.5</td>\n",
       "      <td>0.5</td>\n",
       "      <td>0.5</td>\n",
       "      <td>0.5</td>\n",
       "      <td>0.5</td>\n",
       "      <td>0.5</td>\n",
       "      <td>0.5</td>\n",
       "    </tr>\n",
       "    <tr>\n",
       "      <th>3</th>\n",
       "      <td>19222</td>\n",
       "      <td>0.5</td>\n",
       "      <td>0.5</td>\n",
       "      <td>0.5</td>\n",
       "      <td>0.5</td>\n",
       "      <td>0.5</td>\n",
       "      <td>0.5</td>\n",
       "      <td>0.5</td>\n",
       "    </tr>\n",
       "    <tr>\n",
       "      <th>4</th>\n",
       "      <td>19223</td>\n",
       "      <td>0.5</td>\n",
       "      <td>0.5</td>\n",
       "      <td>0.5</td>\n",
       "      <td>0.5</td>\n",
       "      <td>0.5</td>\n",
       "      <td>0.5</td>\n",
       "      <td>0.5</td>\n",
       "    </tr>\n",
       "  </tbody>\n",
       "</table>\n",
       "</div>"
      ],
      "text/plain": [
       "      id  Pastry  Z_Scratch  K_Scatch  Stains  Dirtiness  Bumps  Other_Faults\n",
       "0  19219     0.5        0.5       0.5     0.5        0.5    0.5           0.5\n",
       "1  19220     0.5        0.5       0.5     0.5        0.5    0.5           0.5\n",
       "2  19221     0.5        0.5       0.5     0.5        0.5    0.5           0.5\n",
       "3  19222     0.5        0.5       0.5     0.5        0.5    0.5           0.5\n",
       "4  19223     0.5        0.5       0.5     0.5        0.5    0.5           0.5"
      ]
     },
     "execution_count": 53,
     "metadata": {},
     "output_type": "execute_result"
    }
   ],
   "source": [
    "ss.head()"
   ]
  },
  {
   "cell_type": "code",
   "execution_count": 54,
   "metadata": {
    "execution": {
     "iopub.execute_input": "2024-05-24T12:09:53.047254Z",
     "iopub.status.busy": "2024-05-24T12:09:53.046805Z",
     "iopub.status.idle": "2024-05-24T12:09:53.068350Z",
     "shell.execute_reply": "2024-05-24T12:09:53.067058Z",
     "shell.execute_reply.started": "2024-05-24T12:09:53.047222Z"
    }
   },
   "outputs": [
    {
     "data": {
      "text/html": [
       "<div>\n",
       "<style scoped>\n",
       "    .dataframe tbody tr th:only-of-type {\n",
       "        vertical-align: middle;\n",
       "    }\n",
       "\n",
       "    .dataframe tbody tr th {\n",
       "        vertical-align: top;\n",
       "    }\n",
       "\n",
       "    .dataframe thead th {\n",
       "        text-align: right;\n",
       "    }\n",
       "</style>\n",
       "<table border=\"1\" class=\"dataframe\">\n",
       "  <thead>\n",
       "    <tr style=\"text-align: right;\">\n",
       "      <th></th>\n",
       "      <th>Pastry</th>\n",
       "      <th>Z_Scratch</th>\n",
       "      <th>K_Scatch</th>\n",
       "      <th>Stains</th>\n",
       "      <th>Dirtiness</th>\n",
       "      <th>Bumps</th>\n",
       "      <th>Other_Faults</th>\n",
       "      <th>id</th>\n",
       "    </tr>\n",
       "  </thead>\n",
       "  <tbody>\n",
       "    <tr>\n",
       "      <th>0</th>\n",
       "      <td>0.343620</td>\n",
       "      <td>0.000004</td>\n",
       "      <td>0.011487</td>\n",
       "      <td>1.573974e-11</td>\n",
       "      <td>0.018955</td>\n",
       "      <td>0.192946</td>\n",
       "      <td>0.471887</td>\n",
       "      <td>19219</td>\n",
       "    </tr>\n",
       "    <tr>\n",
       "      <th>1</th>\n",
       "      <td>0.206978</td>\n",
       "      <td>0.012543</td>\n",
       "      <td>0.019573</td>\n",
       "      <td>2.298840e-08</td>\n",
       "      <td>0.077382</td>\n",
       "      <td>0.182735</td>\n",
       "      <td>0.418967</td>\n",
       "      <td>19220</td>\n",
       "    </tr>\n",
       "    <tr>\n",
       "      <th>2</th>\n",
       "      <td>0.016399</td>\n",
       "      <td>0.057544</td>\n",
       "      <td>0.130667</td>\n",
       "      <td>1.173492e-05</td>\n",
       "      <td>0.010478</td>\n",
       "      <td>0.299034</td>\n",
       "      <td>0.453400</td>\n",
       "      <td>19221</td>\n",
       "    </tr>\n",
       "    <tr>\n",
       "      <th>3</th>\n",
       "      <td>0.216903</td>\n",
       "      <td>0.000037</td>\n",
       "      <td>0.000068</td>\n",
       "      <td>2.246642e-03</td>\n",
       "      <td>0.008015</td>\n",
       "      <td>0.269647</td>\n",
       "      <td>0.399083</td>\n",
       "      <td>19222</td>\n",
       "    </tr>\n",
       "    <tr>\n",
       "      <th>4</th>\n",
       "      <td>0.005497</td>\n",
       "      <td>0.001310</td>\n",
       "      <td>0.000501</td>\n",
       "      <td>8.460208e-05</td>\n",
       "      <td>0.007703</td>\n",
       "      <td>0.606711</td>\n",
       "      <td>0.375831</td>\n",
       "      <td>19223</td>\n",
       "    </tr>\n",
       "  </tbody>\n",
       "</table>\n",
       "</div>"
      ],
      "text/plain": [
       "     Pastry  Z_Scratch  K_Scatch        Stains  Dirtiness     Bumps  \\\n",
       "0  0.343620   0.000004  0.011487  1.573974e-11   0.018955  0.192946   \n",
       "1  0.206978   0.012543  0.019573  2.298840e-08   0.077382  0.182735   \n",
       "2  0.016399   0.057544  0.130667  1.173492e-05   0.010478  0.299034   \n",
       "3  0.216903   0.000037  0.000068  2.246642e-03   0.008015  0.269647   \n",
       "4  0.005497   0.001310  0.000501  8.460208e-05   0.007703  0.606711   \n",
       "\n",
       "   Other_Faults     id  \n",
       "0      0.471887  19219  \n",
       "1      0.418967  19220  \n",
       "2      0.453400  19221  \n",
       "3      0.399083  19222  \n",
       "4      0.375831  19223  "
      ]
     },
     "execution_count": 54,
     "metadata": {},
     "output_type": "execute_result"
    }
   ],
   "source": [
    "df.rename({\"pastry.h5\":\"Pastry\",\"z_scratch.h5\":\"Z_Scratch\",\"k_scatch.h5\":\"K_Scatch\",\"stains.h5\":\"Stains\",\"dirtiness.h5\":\"Dirtiness\",\"bumps.h5\":\"Bumps\",\"other_faults.h5\":\"Other_Faults\"},axis=1,inplace=True)\n",
    "df.head()"
   ]
  },
  {
   "cell_type": "code",
   "execution_count": 55,
   "metadata": {
    "execution": {
     "iopub.execute_input": "2024-05-24T12:11:33.338580Z",
     "iopub.status.busy": "2024-05-24T12:11:33.338124Z",
     "iopub.status.idle": "2024-05-24T12:11:33.509615Z",
     "shell.execute_reply": "2024-05-24T12:11:33.508454Z",
     "shell.execute_reply.started": "2024-05-24T12:11:33.338545Z"
    }
   },
   "outputs": [],
   "source": [
    "df.to_csv(\"submission.csv\",index=False)"
   ]
  },
  {
   "cell_type": "markdown",
   "metadata": {},
   "source": [
    "In this project I tried to predict, that steel plate will be defeated or not. Some metrics ar not satisfactory. But metrics are not enough alone to understand performance of model. That's why I'll write a Streamlit app per a model."
   ]
  },
  {
   "cell_type": "code",
   "execution_count": null,
   "metadata": {},
   "outputs": [],
   "source": []
  }
 ],
 "metadata": {
  "kaggle": {
   "accelerator": "none",
   "dataSources": [
    {
     "databundleVersionId": 7659021,
     "sourceId": 68699,
     "sourceType": "competition"
    }
   ],
   "dockerImageVersionId": 30698,
   "isGpuEnabled": false,
   "isInternetEnabled": true,
   "language": "python",
   "sourceType": "notebook"
  },
  "kernelspec": {
   "display_name": "Python 3 (ipykernel)",
   "language": "python",
   "name": "python3"
  },
  "language_info": {
   "codemirror_mode": {
    "name": "ipython",
    "version": 3
   },
   "file_extension": ".py",
   "mimetype": "text/x-python",
   "name": "python",
   "nbconvert_exporter": "python",
   "pygments_lexer": "ipython3",
   "version": "3.11.5"
  }
 },
 "nbformat": 4,
 "nbformat_minor": 4
}
